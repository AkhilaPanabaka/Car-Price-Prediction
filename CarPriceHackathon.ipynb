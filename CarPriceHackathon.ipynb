{
 "cells": [
  {
   "cell_type": "code",
   "execution_count": 2,
   "id": "0ae80b70",
   "metadata": {},
   "outputs": [],
   "source": [
    "import numpy as np\n",
    "import pandas as pd\n",
    "import matplotlib.pyplot as plt\n",
    "import seaborn as sns\n",
    "from scipy import stats\n",
    "import statsmodels.api as sm\n",
    "from sklearn.preprocessing import MinMaxScaler,StandardScaler,LabelEncoder\n",
    "from sklearn.model_selection import train_test_split,GridSearchCV,cross_val_score\n",
    "from sklearn.linear_model import ElasticNet,Lasso,Ridge,LinearRegression\n",
    "from sklearn.tree import DecisionTreeRegressor\n",
    "from sklearn.ensemble import AdaBoostRegressor,GradientBoostingRegressor,RandomForestRegressor,StackingRegressor\n",
    "from xgboost import XGBRegressor\n",
    "from sklearn.metrics import mean_absolute_error,mean_squared_error,r2_score\n",
    "import warnings\n",
    "warnings.filterwarnings('ignore')\n",
    "plt.rcParams['figure.figsize'] = [15,8]"
   ]
  },
  {
   "cell_type": "code",
   "execution_count": 3,
   "id": "ab5f9442",
   "metadata": {},
   "outputs": [
    {
     "data": {
      "text/html": [
       "<div>\n",
       "<style scoped>\n",
       "    .dataframe tbody tr th:only-of-type {\n",
       "        vertical-align: middle;\n",
       "    }\n",
       "\n",
       "    .dataframe tbody tr th {\n",
       "        vertical-align: top;\n",
       "    }\n",
       "\n",
       "    .dataframe thead th {\n",
       "        text-align: right;\n",
       "    }\n",
       "</style>\n",
       "<table border=\"1\" class=\"dataframe\">\n",
       "  <thead>\n",
       "    <tr style=\"text-align: right;\">\n",
       "      <th></th>\n",
       "      <th>Name</th>\n",
       "      <th>Location</th>\n",
       "      <th>Year</th>\n",
       "      <th>Kilometers_Driven</th>\n",
       "      <th>Fuel_Type</th>\n",
       "      <th>Transmission</th>\n",
       "      <th>Owner_Type</th>\n",
       "      <th>Mileage</th>\n",
       "      <th>Engine</th>\n",
       "      <th>Power</th>\n",
       "      <th>Seats</th>\n",
       "      <th>New_Price</th>\n",
       "      <th>Price</th>\n",
       "    </tr>\n",
       "  </thead>\n",
       "  <tbody>\n",
       "    <tr>\n",
       "      <th>0</th>\n",
       "      <td>Maruti 800 Std BSIII</td>\n",
       "      <td>Bangalore</td>\n",
       "      <td>2012</td>\n",
       "      <td>33715</td>\n",
       "      <td>Diesel</td>\n",
       "      <td>Manual</td>\n",
       "      <td>First</td>\n",
       "      <td>16.46 kmpl</td>\n",
       "      <td>1248 CC</td>\n",
       "      <td>100 bhp</td>\n",
       "      <td>5.0</td>\n",
       "      <td>43.65 Lakh</td>\n",
       "      <td>25.53</td>\n",
       "    </tr>\n",
       "    <tr>\n",
       "      <th>1</th>\n",
       "      <td>Honda City 1.5 V AT</td>\n",
       "      <td>Delhi</td>\n",
       "      <td>2013</td>\n",
       "      <td>73977</td>\n",
       "      <td>Diesel</td>\n",
       "      <td>Manual</td>\n",
       "      <td>First</td>\n",
       "      <td>18.6 kmpl</td>\n",
       "      <td>2993 CC</td>\n",
       "      <td>61 bhp</td>\n",
       "      <td>4.0</td>\n",
       "      <td>NaN</td>\n",
       "      <td>4.58</td>\n",
       "    </tr>\n",
       "    <tr>\n",
       "      <th>2</th>\n",
       "      <td>Honda CR-V RVi MT</td>\n",
       "      <td>Delhi</td>\n",
       "      <td>2007</td>\n",
       "      <td>16460</td>\n",
       "      <td>CNG</td>\n",
       "      <td>Manual</td>\n",
       "      <td>Third</td>\n",
       "      <td>15.3 kmpl</td>\n",
       "      <td>1599 CC</td>\n",
       "      <td>140 bhp</td>\n",
       "      <td>5.0</td>\n",
       "      <td>NaN</td>\n",
       "      <td>2.37</td>\n",
       "    </tr>\n",
       "    <tr>\n",
       "      <th>3</th>\n",
       "      <td>Skoda Yeti Ambition 4X2</td>\n",
       "      <td>Kolkata</td>\n",
       "      <td>2009</td>\n",
       "      <td>35048</td>\n",
       "      <td>Petrol</td>\n",
       "      <td>Manual</td>\n",
       "      <td>First</td>\n",
       "      <td>25.47 kmpl</td>\n",
       "      <td>1196 CC</td>\n",
       "      <td>86.8 bhp</td>\n",
       "      <td>5.0</td>\n",
       "      <td>NaN</td>\n",
       "      <td>1.20</td>\n",
       "    </tr>\n",
       "    <tr>\n",
       "      <th>4</th>\n",
       "      <td>Hyundai i10 Magna LPG</td>\n",
       "      <td>Coimbatore</td>\n",
       "      <td>2013</td>\n",
       "      <td>41656</td>\n",
       "      <td>Petrol</td>\n",
       "      <td>Automatic</td>\n",
       "      <td>First</td>\n",
       "      <td>19.12 kmpl</td>\n",
       "      <td>1999 CC</td>\n",
       "      <td>115 bhp</td>\n",
       "      <td>7.0</td>\n",
       "      <td>13.26 Lakh</td>\n",
       "      <td>33.04</td>\n",
       "    </tr>\n",
       "  </tbody>\n",
       "</table>\n",
       "</div>"
      ],
      "text/plain": [
       "                      Name    Location  Year  Kilometers_Driven Fuel_Type  \\\n",
       "0     Maruti 800 Std BSIII   Bangalore  2012              33715    Diesel   \n",
       "1      Honda City 1.5 V AT       Delhi  2013              73977    Diesel   \n",
       "2        Honda CR-V RVi MT       Delhi  2007              16460       CNG   \n",
       "3  Skoda Yeti Ambition 4X2     Kolkata  2009              35048    Petrol   \n",
       "4    Hyundai i10 Magna LPG  Coimbatore  2013              41656    Petrol   \n",
       "\n",
       "  Transmission Owner_Type     Mileage   Engine     Power  Seats   New_Price  \\\n",
       "0       Manual      First  16.46 kmpl  1248 CC   100 bhp    5.0  43.65 Lakh   \n",
       "1       Manual      First   18.6 kmpl  2993 CC    61 bhp    4.0         NaN   \n",
       "2       Manual      Third   15.3 kmpl  1599 CC   140 bhp    5.0         NaN   \n",
       "3       Manual      First  25.47 kmpl  1196 CC  86.8 bhp    5.0         NaN   \n",
       "4    Automatic      First  19.12 kmpl  1999 CC   115 bhp    7.0  13.26 Lakh   \n",
       "\n",
       "   Price  \n",
       "0  25.53  \n",
       "1   4.58  \n",
       "2   2.37  \n",
       "3   1.20  \n",
       "4  33.04  "
      ]
     },
     "execution_count": 3,
     "metadata": {},
     "output_type": "execute_result"
    }
   ],
   "source": [
    "df = pd.read_csv('Train_cars.csv')\n",
    "df.head()"
   ]
  },
  {
   "cell_type": "code",
   "execution_count": 4,
   "id": "5f7a18f3",
   "metadata": {},
   "outputs": [
    {
     "data": {
      "text/html": [
       "<div>\n",
       "<style scoped>\n",
       "    .dataframe tbody tr th:only-of-type {\n",
       "        vertical-align: middle;\n",
       "    }\n",
       "\n",
       "    .dataframe tbody tr th {\n",
       "        vertical-align: top;\n",
       "    }\n",
       "\n",
       "    .dataframe thead th {\n",
       "        text-align: right;\n",
       "    }\n",
       "</style>\n",
       "<table border=\"1\" class=\"dataframe\">\n",
       "  <thead>\n",
       "    <tr style=\"text-align: right;\">\n",
       "      <th></th>\n",
       "      <th>Year</th>\n",
       "      <th>Kilometers_Driven</th>\n",
       "      <th>Seats</th>\n",
       "      <th>Price</th>\n",
       "    </tr>\n",
       "  </thead>\n",
       "  <tbody>\n",
       "    <tr>\n",
       "      <th>count</th>\n",
       "      <td>22500.000000</td>\n",
       "      <td>22500.000000</td>\n",
       "      <td>22408.000000</td>\n",
       "      <td>22500.000000</td>\n",
       "    </tr>\n",
       "    <tr>\n",
       "      <th>mean</th>\n",
       "      <td>2011.819378</td>\n",
       "      <td>49109.527556</td>\n",
       "      <td>5.352330</td>\n",
       "      <td>6.359158</td>\n",
       "    </tr>\n",
       "    <tr>\n",
       "      <th>std</th>\n",
       "      <td>2.663807</td>\n",
       "      <td>21746.602938</td>\n",
       "      <td>0.842943</td>\n",
       "      <td>7.302764</td>\n",
       "    </tr>\n",
       "    <tr>\n",
       "      <th>min</th>\n",
       "      <td>2001.000000</td>\n",
       "      <td>171.000000</td>\n",
       "      <td>4.000000</td>\n",
       "      <td>0.440000</td>\n",
       "    </tr>\n",
       "    <tr>\n",
       "      <th>25%</th>\n",
       "      <td>2010.000000</td>\n",
       "      <td>35833.250000</td>\n",
       "      <td>5.000000</td>\n",
       "      <td>2.290000</td>\n",
       "    </tr>\n",
       "    <tr>\n",
       "      <th>50%</th>\n",
       "      <td>2012.000000</td>\n",
       "      <td>47991.000000</td>\n",
       "      <td>5.000000</td>\n",
       "      <td>3.510000</td>\n",
       "    </tr>\n",
       "    <tr>\n",
       "      <th>75%</th>\n",
       "      <td>2014.000000</td>\n",
       "      <td>59696.500000</td>\n",
       "      <td>5.000000</td>\n",
       "      <td>6.590000</td>\n",
       "    </tr>\n",
       "    <tr>\n",
       "      <th>max</th>\n",
       "      <td>2018.000000</td>\n",
       "      <td>253494.000000</td>\n",
       "      <td>8.000000</td>\n",
       "      <td>71.600000</td>\n",
       "    </tr>\n",
       "  </tbody>\n",
       "</table>\n",
       "</div>"
      ],
      "text/plain": [
       "               Year  Kilometers_Driven         Seats         Price\n",
       "count  22500.000000       22500.000000  22408.000000  22500.000000\n",
       "mean    2011.819378       49109.527556      5.352330      6.359158\n",
       "std        2.663807       21746.602938      0.842943      7.302764\n",
       "min     2001.000000         171.000000      4.000000      0.440000\n",
       "25%     2010.000000       35833.250000      5.000000      2.290000\n",
       "50%     2012.000000       47991.000000      5.000000      3.510000\n",
       "75%     2014.000000       59696.500000      5.000000      6.590000\n",
       "max     2018.000000      253494.000000      8.000000     71.600000"
      ]
     },
     "execution_count": 4,
     "metadata": {},
     "output_type": "execute_result"
    }
   ],
   "source": [
    "df.describe()"
   ]
  },
  {
   "cell_type": "code",
   "execution_count": 5,
   "id": "f69f54c0",
   "metadata": {},
   "outputs": [],
   "source": [
    "df[['Mileage','mUnits']] = df['Mileage'].str.split(expand=True)"
   ]
  },
  {
   "cell_type": "code",
   "execution_count": 6,
   "id": "4313f6e9",
   "metadata": {},
   "outputs": [],
   "source": [
    "df['Mileage'] = df['Mileage'].astype('float')"
   ]
  },
  {
   "cell_type": "code",
   "execution_count": 7,
   "id": "b1ed0e23",
   "metadata": {},
   "outputs": [
    {
     "data": {
      "text/plain": [
       "kmpl     20235\n",
       "km/kg     2173\n",
       "Name: mUnits, dtype: int64"
      ]
     },
     "execution_count": 7,
     "metadata": {},
     "output_type": "execute_result"
    }
   ],
   "source": [
    "df['mUnits'].value_counts()"
   ]
  },
  {
   "cell_type": "code",
   "execution_count": 8,
   "id": "c9c84071",
   "metadata": {},
   "outputs": [],
   "source": [
    "df['Engine'] = df['Engine'].str.strip('CC')"
   ]
  },
  {
   "cell_type": "code",
   "execution_count": 9,
   "id": "cecc3916",
   "metadata": {},
   "outputs": [],
   "source": [
    "df['Engine'] = df['Engine'].astype('float')"
   ]
  },
  {
   "cell_type": "code",
   "execution_count": 12,
   "id": "3b5cc78f",
   "metadata": {},
   "outputs": [],
   "source": [
    "df['Power'] = df['Power'].replace('null ',np.nan)\n",
    "df['Power'] = df['Power'].replace('null',np.nan)"
   ]
  },
  {
   "cell_type": "code",
   "execution_count": 13,
   "id": "7322ab36",
   "metadata": {},
   "outputs": [],
   "source": [
    "df['Power'] = df['Power'].str.strip('bhp')\n",
    "df['Power'] = df['Power'].astype('float')"
   ]
  },
  {
   "cell_type": "code",
   "execution_count": 14,
   "id": "40b3e34a",
   "metadata": {},
   "outputs": [],
   "source": [
    "df[['New_Price','pUnits']] = df['New_Price'].str.split(expand=True)"
   ]
  },
  {
   "cell_type": "code",
   "execution_count": 15,
   "id": "f88d7224",
   "metadata": {},
   "outputs": [],
   "source": [
    "df['New_Price'] = df['New_Price'].astype('float')"
   ]
  },
  {
   "cell_type": "code",
   "execution_count": 16,
   "id": "fd9c9d26",
   "metadata": {},
   "outputs": [
    {
     "data": {
      "text/plain": [
       "Lakh    3802\n",
       "Cr        79\n",
       "Name: pUnits, dtype: int64"
      ]
     },
     "execution_count": 16,
     "metadata": {},
     "output_type": "execute_result"
    }
   ],
   "source": [
    "df['pUnits'].value_counts()"
   ]
  },
  {
   "cell_type": "code",
   "execution_count": 17,
   "id": "dc86e31d",
   "metadata": {},
   "outputs": [
    {
     "data": {
      "text/html": [
       "<div>\n",
       "<style scoped>\n",
       "    .dataframe tbody tr th:only-of-type {\n",
       "        vertical-align: middle;\n",
       "    }\n",
       "\n",
       "    .dataframe tbody tr th {\n",
       "        vertical-align: top;\n",
       "    }\n",
       "\n",
       "    .dataframe thead th {\n",
       "        text-align: right;\n",
       "    }\n",
       "</style>\n",
       "<table border=\"1\" class=\"dataframe\">\n",
       "  <thead>\n",
       "    <tr style=\"text-align: right;\">\n",
       "      <th></th>\n",
       "      <th>Name</th>\n",
       "      <th>Location</th>\n",
       "      <th>Year</th>\n",
       "      <th>Kilometers_Driven</th>\n",
       "      <th>Fuel_Type</th>\n",
       "      <th>Transmission</th>\n",
       "      <th>Owner_Type</th>\n",
       "      <th>Mileage</th>\n",
       "      <th>Engine</th>\n",
       "      <th>Power</th>\n",
       "      <th>Seats</th>\n",
       "      <th>New_Price</th>\n",
       "      <th>Price</th>\n",
       "      <th>mUnits</th>\n",
       "      <th>pUnits</th>\n",
       "    </tr>\n",
       "  </thead>\n",
       "  <tbody>\n",
       "    <tr>\n",
       "      <th>0</th>\n",
       "      <td>Maruti 800 Std BSIII</td>\n",
       "      <td>Bangalore</td>\n",
       "      <td>2012</td>\n",
       "      <td>33715</td>\n",
       "      <td>Diesel</td>\n",
       "      <td>Manual</td>\n",
       "      <td>First</td>\n",
       "      <td>16.46</td>\n",
       "      <td>1248.0</td>\n",
       "      <td>100.00</td>\n",
       "      <td>5.0</td>\n",
       "      <td>43.65</td>\n",
       "      <td>25.53</td>\n",
       "      <td>kmpl</td>\n",
       "      <td>Lakh</td>\n",
       "    </tr>\n",
       "    <tr>\n",
       "      <th>4</th>\n",
       "      <td>Hyundai i10 Magna LPG</td>\n",
       "      <td>Coimbatore</td>\n",
       "      <td>2013</td>\n",
       "      <td>41656</td>\n",
       "      <td>Petrol</td>\n",
       "      <td>Automatic</td>\n",
       "      <td>First</td>\n",
       "      <td>19.12</td>\n",
       "      <td>1999.0</td>\n",
       "      <td>115.00</td>\n",
       "      <td>7.0</td>\n",
       "      <td>13.26</td>\n",
       "      <td>33.04</td>\n",
       "      <td>kmpl</td>\n",
       "      <td>Lakh</td>\n",
       "    </tr>\n",
       "    <tr>\n",
       "      <th>12</th>\n",
       "      <td>Ford Fiesta 1.4 ZXi TDCi ABS</td>\n",
       "      <td>Coimbatore</td>\n",
       "      <td>2017</td>\n",
       "      <td>44928</td>\n",
       "      <td>Petrol</td>\n",
       "      <td>Automatic</td>\n",
       "      <td>First</td>\n",
       "      <td>16.95</td>\n",
       "      <td>1998.0</td>\n",
       "      <td>113.98</td>\n",
       "      <td>7.0</td>\n",
       "      <td>5.68</td>\n",
       "      <td>7.45</td>\n",
       "      <td>kmpl</td>\n",
       "      <td>Lakh</td>\n",
       "    </tr>\n",
       "    <tr>\n",
       "      <th>17</th>\n",
       "      <td>Maruti Celerio VXI AT</td>\n",
       "      <td>Hyderabad</td>\n",
       "      <td>2013</td>\n",
       "      <td>41464</td>\n",
       "      <td>Diesel</td>\n",
       "      <td>Manual</td>\n",
       "      <td>First</td>\n",
       "      <td>13.10</td>\n",
       "      <td>2494.0</td>\n",
       "      <td>282.00</td>\n",
       "      <td>5.0</td>\n",
       "      <td>8.61</td>\n",
       "      <td>1.65</td>\n",
       "      <td>kmpl</td>\n",
       "      <td>Lakh</td>\n",
       "    </tr>\n",
       "    <tr>\n",
       "      <th>18</th>\n",
       "      <td>Maruti Swift Dzire 1.2 Lxi BSIV</td>\n",
       "      <td>Chennai</td>\n",
       "      <td>2010</td>\n",
       "      <td>53222</td>\n",
       "      <td>Petrol</td>\n",
       "      <td>Automatic</td>\n",
       "      <td>First</td>\n",
       "      <td>23.84</td>\n",
       "      <td>1599.0</td>\n",
       "      <td>147.60</td>\n",
       "      <td>7.0</td>\n",
       "      <td>79.43</td>\n",
       "      <td>3.41</td>\n",
       "      <td>kmpl</td>\n",
       "      <td>Lakh</td>\n",
       "    </tr>\n",
       "    <tr>\n",
       "      <th>23</th>\n",
       "      <td>Maruti Alto K10 VXI AGS</td>\n",
       "      <td>Kolkata</td>\n",
       "      <td>2014</td>\n",
       "      <td>38277</td>\n",
       "      <td>Petrol</td>\n",
       "      <td>Manual</td>\n",
       "      <td>First</td>\n",
       "      <td>17.00</td>\n",
       "      <td>1364.0</td>\n",
       "      <td>121.30</td>\n",
       "      <td>5.0</td>\n",
       "      <td>5.61</td>\n",
       "      <td>4.30</td>\n",
       "      <td>km/kg</td>\n",
       "      <td>Lakh</td>\n",
       "    </tr>\n",
       "    <tr>\n",
       "      <th>34</th>\n",
       "      <td>Hyundai Creta 1.6 CRDi AT SX Plus</td>\n",
       "      <td>Kochi</td>\n",
       "      <td>2011</td>\n",
       "      <td>25453</td>\n",
       "      <td>Diesel</td>\n",
       "      <td>Automatic</td>\n",
       "      <td>First</td>\n",
       "      <td>22.48</td>\n",
       "      <td>2996.0</td>\n",
       "      <td>88.50</td>\n",
       "      <td>4.0</td>\n",
       "      <td>45.36</td>\n",
       "      <td>6.32</td>\n",
       "      <td>kmpl</td>\n",
       "      <td>Lakh</td>\n",
       "    </tr>\n",
       "    <tr>\n",
       "      <th>42</th>\n",
       "      <td>Hyundai Santro GLS II - Euro II</td>\n",
       "      <td>Kolkata</td>\n",
       "      <td>2014</td>\n",
       "      <td>33391</td>\n",
       "      <td>Diesel</td>\n",
       "      <td>Manual</td>\n",
       "      <td>First</td>\n",
       "      <td>12.80</td>\n",
       "      <td>1586.0</td>\n",
       "      <td>174.50</td>\n",
       "      <td>5.0</td>\n",
       "      <td>8.61</td>\n",
       "      <td>7.59</td>\n",
       "      <td>kmpl</td>\n",
       "      <td>Lakh</td>\n",
       "    </tr>\n",
       "    <tr>\n",
       "      <th>52</th>\n",
       "      <td>Hyundai Santro Xing GLS</td>\n",
       "      <td>Chennai</td>\n",
       "      <td>2013</td>\n",
       "      <td>48158</td>\n",
       "      <td>CNG</td>\n",
       "      <td>Manual</td>\n",
       "      <td>First</td>\n",
       "      <td>17.80</td>\n",
       "      <td>1248.0</td>\n",
       "      <td>335.30</td>\n",
       "      <td>5.0</td>\n",
       "      <td>7.52</td>\n",
       "      <td>3.37</td>\n",
       "      <td>kmpl</td>\n",
       "      <td>Lakh</td>\n",
       "    </tr>\n",
       "    <tr>\n",
       "      <th>56</th>\n",
       "      <td>Toyota Corolla H4</td>\n",
       "      <td>Jaipur</td>\n",
       "      <td>2009</td>\n",
       "      <td>109884</td>\n",
       "      <td>Petrol</td>\n",
       "      <td>Manual</td>\n",
       "      <td>First</td>\n",
       "      <td>14.80</td>\n",
       "      <td>1193.0</td>\n",
       "      <td>NaN</td>\n",
       "      <td>5.0</td>\n",
       "      <td>10.81</td>\n",
       "      <td>1.65</td>\n",
       "      <td>kmpl</td>\n",
       "      <td>Lakh</td>\n",
       "    </tr>\n",
       "    <tr>\n",
       "      <th>67</th>\n",
       "      <td>Maruti Eeco 5 STR With AC Plus HTR CNG</td>\n",
       "      <td>Jaipur</td>\n",
       "      <td>2013</td>\n",
       "      <td>20663</td>\n",
       "      <td>Petrol</td>\n",
       "      <td>Automatic</td>\n",
       "      <td>First</td>\n",
       "      <td>23.19</td>\n",
       "      <td>1896.0</td>\n",
       "      <td>178.40</td>\n",
       "      <td>7.0</td>\n",
       "      <td>15.59</td>\n",
       "      <td>9.73</td>\n",
       "      <td>kmpl</td>\n",
       "      <td>Lakh</td>\n",
       "    </tr>\n",
       "    <tr>\n",
       "      <th>71</th>\n",
       "      <td>Mercedes-Benz New C-Class C 220 CDI Avantgarde</td>\n",
       "      <td>Bangalore</td>\n",
       "      <td>2014</td>\n",
       "      <td>52619</td>\n",
       "      <td>Petrol</td>\n",
       "      <td>Manual</td>\n",
       "      <td>First</td>\n",
       "      <td>24.00</td>\n",
       "      <td>1968.0</td>\n",
       "      <td>107.20</td>\n",
       "      <td>5.0</td>\n",
       "      <td>62.07</td>\n",
       "      <td>4.02</td>\n",
       "      <td>kmpl</td>\n",
       "      <td>Lakh</td>\n",
       "    </tr>\n",
       "    <tr>\n",
       "      <th>78</th>\n",
       "      <td>Ford Endeavour 3.2 Titanium AT 4X4</td>\n",
       "      <td>Hyderabad</td>\n",
       "      <td>2013</td>\n",
       "      <td>50761</td>\n",
       "      <td>Diesel</td>\n",
       "      <td>Manual</td>\n",
       "      <td>First</td>\n",
       "      <td>26.20</td>\n",
       "      <td>1991.0</td>\n",
       "      <td>138.10</td>\n",
       "      <td>5.0</td>\n",
       "      <td>8.18</td>\n",
       "      <td>4.79</td>\n",
       "      <td>km/kg</td>\n",
       "      <td>Lakh</td>\n",
       "    </tr>\n",
       "    <tr>\n",
       "      <th>81</th>\n",
       "      <td>Land Rover Discovery Sport TD4 HSE</td>\n",
       "      <td>Hyderabad</td>\n",
       "      <td>2012</td>\n",
       "      <td>45335</td>\n",
       "      <td>Diesel</td>\n",
       "      <td>Manual</td>\n",
       "      <td>First</td>\n",
       "      <td>17.90</td>\n",
       "      <td>2498.0</td>\n",
       "      <td>224.00</td>\n",
       "      <td>4.0</td>\n",
       "      <td>13.58</td>\n",
       "      <td>2.99</td>\n",
       "      <td>kmpl</td>\n",
       "      <td>Lakh</td>\n",
       "    </tr>\n",
       "    <tr>\n",
       "      <th>89</th>\n",
       "      <td>Skoda Laura 1.9 TDI AT Ambiente</td>\n",
       "      <td>Coimbatore</td>\n",
       "      <td>2014</td>\n",
       "      <td>49278</td>\n",
       "      <td>Diesel</td>\n",
       "      <td>Manual</td>\n",
       "      <td>First</td>\n",
       "      <td>20.62</td>\n",
       "      <td>2987.0</td>\n",
       "      <td>141.00</td>\n",
       "      <td>5.0</td>\n",
       "      <td>53.68</td>\n",
       "      <td>7.24</td>\n",
       "      <td>kmpl</td>\n",
       "      <td>Lakh</td>\n",
       "    </tr>\n",
       "    <tr>\n",
       "      <th>94</th>\n",
       "      <td>Honda Civic 2006-2010 1.8 V MT</td>\n",
       "      <td>Kolkata</td>\n",
       "      <td>2013</td>\n",
       "      <td>51205</td>\n",
       "      <td>Petrol</td>\n",
       "      <td>Manual</td>\n",
       "      <td>First</td>\n",
       "      <td>11.49</td>\n",
       "      <td>1196.0</td>\n",
       "      <td>70.00</td>\n",
       "      <td>5.0</td>\n",
       "      <td>8.61</td>\n",
       "      <td>9.78</td>\n",
       "      <td>kmpl</td>\n",
       "      <td>Lakh</td>\n",
       "    </tr>\n",
       "    <tr>\n",
       "      <th>95</th>\n",
       "      <td>Volkswagen Jetta 2007-2011 2.0 TDI Comfortline</td>\n",
       "      <td>Coimbatore</td>\n",
       "      <td>2014</td>\n",
       "      <td>31972</td>\n",
       "      <td>Petrol</td>\n",
       "      <td>Manual</td>\n",
       "      <td>First</td>\n",
       "      <td>17.45</td>\n",
       "      <td>1461.0</td>\n",
       "      <td>103.20</td>\n",
       "      <td>5.0</td>\n",
       "      <td>6.00</td>\n",
       "      <td>4.93</td>\n",
       "      <td>kmpl</td>\n",
       "      <td>Lakh</td>\n",
       "    </tr>\n",
       "    <tr>\n",
       "      <th>98</th>\n",
       "      <td>Maruti SX4 ZDI</td>\n",
       "      <td>Coimbatore</td>\n",
       "      <td>2010</td>\n",
       "      <td>59475</td>\n",
       "      <td>Diesel</td>\n",
       "      <td>Automatic</td>\n",
       "      <td>First</td>\n",
       "      <td>8.10</td>\n",
       "      <td>2987.0</td>\n",
       "      <td>83.10</td>\n",
       "      <td>4.0</td>\n",
       "      <td>8.10</td>\n",
       "      <td>1.93</td>\n",
       "      <td>kmpl</td>\n",
       "      <td>Lakh</td>\n",
       "    </tr>\n",
       "    <tr>\n",
       "      <th>106</th>\n",
       "      <td>Honda City ZX GXi</td>\n",
       "      <td>Hyderabad</td>\n",
       "      <td>2011</td>\n",
       "      <td>47396</td>\n",
       "      <td>Petrol</td>\n",
       "      <td>Manual</td>\n",
       "      <td>First</td>\n",
       "      <td>24.70</td>\n",
       "      <td>1248.0</td>\n",
       "      <td>126.20</td>\n",
       "      <td>5.0</td>\n",
       "      <td>92.79</td>\n",
       "      <td>3.10</td>\n",
       "      <td>kmpl</td>\n",
       "      <td>Lakh</td>\n",
       "    </tr>\n",
       "    <tr>\n",
       "      <th>107</th>\n",
       "      <td>Renault Duster 85PS Diesel RxE</td>\n",
       "      <td>Kochi</td>\n",
       "      <td>2012</td>\n",
       "      <td>35332</td>\n",
       "      <td>Petrol</td>\n",
       "      <td>Automatic</td>\n",
       "      <td>First</td>\n",
       "      <td>33.44</td>\n",
       "      <td>1956.0</td>\n",
       "      <td>80.00</td>\n",
       "      <td>5.0</td>\n",
       "      <td>7.59</td>\n",
       "      <td>2.77</td>\n",
       "      <td>km/kg</td>\n",
       "      <td>Lakh</td>\n",
       "    </tr>\n",
       "  </tbody>\n",
       "</table>\n",
       "</div>"
      ],
      "text/plain": [
       "                                               Name    Location  Year  \\\n",
       "0                              Maruti 800 Std BSIII   Bangalore  2012   \n",
       "4                             Hyundai i10 Magna LPG  Coimbatore  2013   \n",
       "12                     Ford Fiesta 1.4 ZXi TDCi ABS  Coimbatore  2017   \n",
       "17                            Maruti Celerio VXI AT   Hyderabad  2013   \n",
       "18                  Maruti Swift Dzire 1.2 Lxi BSIV     Chennai  2010   \n",
       "23                          Maruti Alto K10 VXI AGS     Kolkata  2014   \n",
       "34                Hyundai Creta 1.6 CRDi AT SX Plus       Kochi  2011   \n",
       "42                  Hyundai Santro GLS II - Euro II     Kolkata  2014   \n",
       "52                          Hyundai Santro Xing GLS     Chennai  2013   \n",
       "56                                Toyota Corolla H4      Jaipur  2009   \n",
       "67           Maruti Eeco 5 STR With AC Plus HTR CNG      Jaipur  2013   \n",
       "71   Mercedes-Benz New C-Class C 220 CDI Avantgarde   Bangalore  2014   \n",
       "78               Ford Endeavour 3.2 Titanium AT 4X4   Hyderabad  2013   \n",
       "81               Land Rover Discovery Sport TD4 HSE   Hyderabad  2012   \n",
       "89                  Skoda Laura 1.9 TDI AT Ambiente  Coimbatore  2014   \n",
       "94                   Honda Civic 2006-2010 1.8 V MT     Kolkata  2013   \n",
       "95   Volkswagen Jetta 2007-2011 2.0 TDI Comfortline  Coimbatore  2014   \n",
       "98                                   Maruti SX4 ZDI  Coimbatore  2010   \n",
       "106                               Honda City ZX GXi   Hyderabad  2011   \n",
       "107                  Renault Duster 85PS Diesel RxE       Kochi  2012   \n",
       "\n",
       "     Kilometers_Driven Fuel_Type Transmission Owner_Type  Mileage  Engine  \\\n",
       "0                33715    Diesel       Manual      First    16.46  1248.0   \n",
       "4                41656    Petrol    Automatic      First    19.12  1999.0   \n",
       "12               44928    Petrol    Automatic      First    16.95  1998.0   \n",
       "17               41464    Diesel       Manual      First    13.10  2494.0   \n",
       "18               53222    Petrol    Automatic      First    23.84  1599.0   \n",
       "23               38277    Petrol       Manual      First    17.00  1364.0   \n",
       "34               25453    Diesel    Automatic      First    22.48  2996.0   \n",
       "42               33391    Diesel       Manual      First    12.80  1586.0   \n",
       "52               48158       CNG       Manual      First    17.80  1248.0   \n",
       "56              109884    Petrol       Manual      First    14.80  1193.0   \n",
       "67               20663    Petrol    Automatic      First    23.19  1896.0   \n",
       "71               52619    Petrol       Manual      First    24.00  1968.0   \n",
       "78               50761    Diesel       Manual      First    26.20  1991.0   \n",
       "81               45335    Diesel       Manual      First    17.90  2498.0   \n",
       "89               49278    Diesel       Manual      First    20.62  2987.0   \n",
       "94               51205    Petrol       Manual      First    11.49  1196.0   \n",
       "95               31972    Petrol       Manual      First    17.45  1461.0   \n",
       "98               59475    Diesel    Automatic      First     8.10  2987.0   \n",
       "106              47396    Petrol       Manual      First    24.70  1248.0   \n",
       "107              35332    Petrol    Automatic      First    33.44  1956.0   \n",
       "\n",
       "      Power  Seats  New_Price  Price mUnits pUnits  \n",
       "0    100.00    5.0      43.65  25.53   kmpl   Lakh  \n",
       "4    115.00    7.0      13.26  33.04   kmpl   Lakh  \n",
       "12   113.98    7.0       5.68   7.45   kmpl   Lakh  \n",
       "17   282.00    5.0       8.61   1.65   kmpl   Lakh  \n",
       "18   147.60    7.0      79.43   3.41   kmpl   Lakh  \n",
       "23   121.30    5.0       5.61   4.30  km/kg   Lakh  \n",
       "34    88.50    4.0      45.36   6.32   kmpl   Lakh  \n",
       "42   174.50    5.0       8.61   7.59   kmpl   Lakh  \n",
       "52   335.30    5.0       7.52   3.37   kmpl   Lakh  \n",
       "56      NaN    5.0      10.81   1.65   kmpl   Lakh  \n",
       "67   178.40    7.0      15.59   9.73   kmpl   Lakh  \n",
       "71   107.20    5.0      62.07   4.02   kmpl   Lakh  \n",
       "78   138.10    5.0       8.18   4.79  km/kg   Lakh  \n",
       "81   224.00    4.0      13.58   2.99   kmpl   Lakh  \n",
       "89   141.00    5.0      53.68   7.24   kmpl   Lakh  \n",
       "94    70.00    5.0       8.61   9.78   kmpl   Lakh  \n",
       "95   103.20    5.0       6.00   4.93   kmpl   Lakh  \n",
       "98    83.10    4.0       8.10   1.93   kmpl   Lakh  \n",
       "106  126.20    5.0      92.79   3.10   kmpl   Lakh  \n",
       "107   80.00    5.0       7.59   2.77  km/kg   Lakh  "
      ]
     },
     "execution_count": 17,
     "metadata": {},
     "output_type": "execute_result"
    }
   ],
   "source": [
    "df[df['pUnits'] == 'Lakh'].head(20)"
   ]
  },
  {
   "cell_type": "code",
   "execution_count": 18,
   "id": "2fc01d96",
   "metadata": {},
   "outputs": [],
   "source": [
    "df['pUnits'] = df['pUnits'].replace(['Lakh','Cr'],[1,100])"
   ]
  },
  {
   "cell_type": "code",
   "execution_count": 19,
   "id": "e98ff280",
   "metadata": {},
   "outputs": [],
   "source": [
    "df['New_Price'] = df['New_Price']*df['pUnits']"
   ]
  },
  {
   "cell_type": "code",
   "execution_count": 20,
   "id": "74381b02",
   "metadata": {},
   "outputs": [],
   "source": [
    "df.drop('pUnits',1,inplace=True)"
   ]
  },
  {
   "cell_type": "code",
   "execution_count": 21,
   "id": "2d1b3977",
   "metadata": {},
   "outputs": [
    {
     "data": {
      "text/html": [
       "<div>\n",
       "<style scoped>\n",
       "    .dataframe tbody tr th:only-of-type {\n",
       "        vertical-align: middle;\n",
       "    }\n",
       "\n",
       "    .dataframe tbody tr th {\n",
       "        vertical-align: top;\n",
       "    }\n",
       "\n",
       "    .dataframe thead th {\n",
       "        text-align: right;\n",
       "    }\n",
       "</style>\n",
       "<table border=\"1\" class=\"dataframe\">\n",
       "  <thead>\n",
       "    <tr style=\"text-align: right;\">\n",
       "      <th></th>\n",
       "      <th>Name</th>\n",
       "      <th>Location</th>\n",
       "      <th>Year</th>\n",
       "      <th>Kilometers_Driven</th>\n",
       "      <th>Fuel_Type</th>\n",
       "      <th>Transmission</th>\n",
       "      <th>Owner_Type</th>\n",
       "      <th>Mileage</th>\n",
       "      <th>Engine</th>\n",
       "      <th>Power</th>\n",
       "      <th>Seats</th>\n",
       "      <th>New_Price</th>\n",
       "      <th>Price</th>\n",
       "      <th>mUnits</th>\n",
       "    </tr>\n",
       "  </thead>\n",
       "  <tbody>\n",
       "    <tr>\n",
       "      <th>0</th>\n",
       "      <td>Maruti 800 Std BSIII</td>\n",
       "      <td>Bangalore</td>\n",
       "      <td>2012</td>\n",
       "      <td>33715</td>\n",
       "      <td>Diesel</td>\n",
       "      <td>Manual</td>\n",
       "      <td>First</td>\n",
       "      <td>16.46</td>\n",
       "      <td>1248.0</td>\n",
       "      <td>100.0</td>\n",
       "      <td>5.0</td>\n",
       "      <td>43.65</td>\n",
       "      <td>25.53</td>\n",
       "      <td>kmpl</td>\n",
       "    </tr>\n",
       "    <tr>\n",
       "      <th>1</th>\n",
       "      <td>Honda City 1.5 V AT</td>\n",
       "      <td>Delhi</td>\n",
       "      <td>2013</td>\n",
       "      <td>73977</td>\n",
       "      <td>Diesel</td>\n",
       "      <td>Manual</td>\n",
       "      <td>First</td>\n",
       "      <td>18.60</td>\n",
       "      <td>2993.0</td>\n",
       "      <td>61.0</td>\n",
       "      <td>4.0</td>\n",
       "      <td>NaN</td>\n",
       "      <td>4.58</td>\n",
       "      <td>kmpl</td>\n",
       "    </tr>\n",
       "    <tr>\n",
       "      <th>2</th>\n",
       "      <td>Honda CR-V RVi MT</td>\n",
       "      <td>Delhi</td>\n",
       "      <td>2007</td>\n",
       "      <td>16460</td>\n",
       "      <td>CNG</td>\n",
       "      <td>Manual</td>\n",
       "      <td>Third</td>\n",
       "      <td>15.30</td>\n",
       "      <td>1599.0</td>\n",
       "      <td>140.0</td>\n",
       "      <td>5.0</td>\n",
       "      <td>NaN</td>\n",
       "      <td>2.37</td>\n",
       "      <td>kmpl</td>\n",
       "    </tr>\n",
       "    <tr>\n",
       "      <th>3</th>\n",
       "      <td>Skoda Yeti Ambition 4X2</td>\n",
       "      <td>Kolkata</td>\n",
       "      <td>2009</td>\n",
       "      <td>35048</td>\n",
       "      <td>Petrol</td>\n",
       "      <td>Manual</td>\n",
       "      <td>First</td>\n",
       "      <td>25.47</td>\n",
       "      <td>1196.0</td>\n",
       "      <td>86.8</td>\n",
       "      <td>5.0</td>\n",
       "      <td>NaN</td>\n",
       "      <td>1.20</td>\n",
       "      <td>kmpl</td>\n",
       "    </tr>\n",
       "    <tr>\n",
       "      <th>4</th>\n",
       "      <td>Hyundai i10 Magna LPG</td>\n",
       "      <td>Coimbatore</td>\n",
       "      <td>2013</td>\n",
       "      <td>41656</td>\n",
       "      <td>Petrol</td>\n",
       "      <td>Automatic</td>\n",
       "      <td>First</td>\n",
       "      <td>19.12</td>\n",
       "      <td>1999.0</td>\n",
       "      <td>115.0</td>\n",
       "      <td>7.0</td>\n",
       "      <td>13.26</td>\n",
       "      <td>33.04</td>\n",
       "      <td>kmpl</td>\n",
       "    </tr>\n",
       "  </tbody>\n",
       "</table>\n",
       "</div>"
      ],
      "text/plain": [
       "                      Name    Location  Year  Kilometers_Driven Fuel_Type  \\\n",
       "0     Maruti 800 Std BSIII   Bangalore  2012              33715    Diesel   \n",
       "1      Honda City 1.5 V AT       Delhi  2013              73977    Diesel   \n",
       "2        Honda CR-V RVi MT       Delhi  2007              16460       CNG   \n",
       "3  Skoda Yeti Ambition 4X2     Kolkata  2009              35048    Petrol   \n",
       "4    Hyundai i10 Magna LPG  Coimbatore  2013              41656    Petrol   \n",
       "\n",
       "  Transmission Owner_Type  Mileage  Engine  Power  Seats  New_Price  Price  \\\n",
       "0       Manual      First    16.46  1248.0  100.0    5.0      43.65  25.53   \n",
       "1       Manual      First    18.60  2993.0   61.0    4.0        NaN   4.58   \n",
       "2       Manual      Third    15.30  1599.0  140.0    5.0        NaN   2.37   \n",
       "3       Manual      First    25.47  1196.0   86.8    5.0        NaN   1.20   \n",
       "4    Automatic      First    19.12  1999.0  115.0    7.0      13.26  33.04   \n",
       "\n",
       "  mUnits  \n",
       "0   kmpl  \n",
       "1   kmpl  \n",
       "2   kmpl  \n",
       "3   kmpl  \n",
       "4   kmpl  "
      ]
     },
     "execution_count": 21,
     "metadata": {},
     "output_type": "execute_result"
    }
   ],
   "source": [
    "df.head()"
   ]
  },
  {
   "cell_type": "code",
   "execution_count": 22,
   "id": "067ae660",
   "metadata": {},
   "outputs": [
    {
     "data": {
      "text/plain": [
       "Petrol      10155\n",
       "Diesel      10004\n",
       "CNG          2303\n",
       "LPG            24\n",
       "Electric       14\n",
       "Name: Fuel_Type, dtype: int64"
      ]
     },
     "execution_count": 22,
     "metadata": {},
     "output_type": "execute_result"
    }
   ],
   "source": [
    "df['Fuel_Type'].value_counts()"
   ]
  },
  {
   "cell_type": "code",
   "execution_count": 23,
   "id": "49a02a68",
   "metadata": {},
   "outputs": [
    {
     "data": {
      "text/plain": [
       "kmpl     20235\n",
       "km/kg     2173\n",
       "Name: mUnits, dtype: int64"
      ]
     },
     "execution_count": 23,
     "metadata": {},
     "output_type": "execute_result"
    }
   ],
   "source": [
    "df['mUnits'].value_counts()"
   ]
  },
  {
   "cell_type": "code",
   "execution_count": 24,
   "id": "8e1de547",
   "metadata": {},
   "outputs": [
    {
     "data": {
      "text/plain": [
       "Petrol      1329\n",
       "Diesel       636\n",
       "CNG          206\n",
       "LPG            1\n",
       "Electric       1\n",
       "Name: Fuel_Type, dtype: int64"
      ]
     },
     "execution_count": 24,
     "metadata": {},
     "output_type": "execute_result"
    }
   ],
   "source": [
    "df[(df['mUnits'] == 'km/kg')]['Fuel_Type'].value_counts()"
   ]
  },
  {
   "cell_type": "code",
   "execution_count": 25,
   "id": "20e70df8",
   "metadata": {},
   "outputs": [],
   "source": [
    "df = df[~((df['mUnits'] == 'km/kg')&(df['Fuel_Type'] == 'Electric'))]"
   ]
  },
  {
   "cell_type": "code",
   "execution_count": 26,
   "id": "027dd654",
   "metadata": {},
   "outputs": [],
   "source": [
    "l = []\n",
    "for i in df.index:\n",
    "    if df['mUnits'][i] == 'kmpl':\n",
    "        l.append(1)\n",
    "    elif (df['mUnits'][i] == 'km/kg') & (df['Fuel_Type'][i] == 'Petrol'):\n",
    "        l.append(1/1.36)\n",
    "    elif (df['mUnits'][i] == 'km/kg') & (df['Fuel_Type'][i] == 'Diesel'):\n",
    "        l.append(1/1.16)\n",
    "    elif (df['mUnits'][i] == 'km/kg') & (df['Fuel_Type'][i] == 'CNG'):\n",
    "        l.append(1/5.56)\n",
    "    elif (df['mUnits'][i] == 'km/kg') & (df['Fuel_Type'][i] == 'LPG'):\n",
    "        l.append(1/1.96)\n",
    "    else:\n",
    "        l.append(np.nan)"
   ]
  },
  {
   "cell_type": "code",
   "execution_count": 27,
   "id": "09f5177c",
   "metadata": {},
   "outputs": [
    {
     "data": {
      "text/plain": [
       "22499"
      ]
     },
     "execution_count": 27,
     "metadata": {},
     "output_type": "execute_result"
    }
   ],
   "source": [
    "len(df['mUnits'])"
   ]
  },
  {
   "cell_type": "code",
   "execution_count": 28,
   "id": "4e2aaf94",
   "metadata": {},
   "outputs": [
    {
     "data": {
      "text/plain": [
       "22499"
      ]
     },
     "execution_count": 28,
     "metadata": {},
     "output_type": "execute_result"
    }
   ],
   "source": [
    "len(l)"
   ]
  },
  {
   "cell_type": "code",
   "execution_count": 29,
   "id": "4cb75777",
   "metadata": {},
   "outputs": [],
   "source": [
    "df['mUnits'] = l"
   ]
  },
  {
   "cell_type": "code",
   "execution_count": 30,
   "id": "e8ee39b8",
   "metadata": {},
   "outputs": [],
   "source": [
    "df['Mileage'] = df['Mileage']*df['mUnits']"
   ]
  },
  {
   "cell_type": "code",
   "execution_count": 31,
   "id": "30342940",
   "metadata": {},
   "outputs": [],
   "source": [
    "df.drop('mUnits',1,inplace=True)"
   ]
  },
  {
   "cell_type": "code",
   "execution_count": 32,
   "id": "5cbd4f67",
   "metadata": {},
   "outputs": [
    {
     "data": {
      "text/html": [
       "<div>\n",
       "<style scoped>\n",
       "    .dataframe tbody tr th:only-of-type {\n",
       "        vertical-align: middle;\n",
       "    }\n",
       "\n",
       "    .dataframe tbody tr th {\n",
       "        vertical-align: top;\n",
       "    }\n",
       "\n",
       "    .dataframe thead th {\n",
       "        text-align: right;\n",
       "    }\n",
       "</style>\n",
       "<table border=\"1\" class=\"dataframe\">\n",
       "  <thead>\n",
       "    <tr style=\"text-align: right;\">\n",
       "      <th></th>\n",
       "      <th>Name</th>\n",
       "      <th>Location</th>\n",
       "      <th>Year</th>\n",
       "      <th>Kilometers_Driven</th>\n",
       "      <th>Fuel_Type</th>\n",
       "      <th>Transmission</th>\n",
       "      <th>Owner_Type</th>\n",
       "      <th>Mileage</th>\n",
       "      <th>Engine</th>\n",
       "      <th>Power</th>\n",
       "      <th>Seats</th>\n",
       "      <th>New_Price</th>\n",
       "      <th>Price</th>\n",
       "    </tr>\n",
       "  </thead>\n",
       "  <tbody>\n",
       "    <tr>\n",
       "      <th>0</th>\n",
       "      <td>Maruti 800 Std BSIII</td>\n",
       "      <td>Bangalore</td>\n",
       "      <td>2012</td>\n",
       "      <td>33715</td>\n",
       "      <td>Diesel</td>\n",
       "      <td>Manual</td>\n",
       "      <td>First</td>\n",
       "      <td>16.46</td>\n",
       "      <td>1248.0</td>\n",
       "      <td>100.0</td>\n",
       "      <td>5.0</td>\n",
       "      <td>43.65</td>\n",
       "      <td>25.53</td>\n",
       "    </tr>\n",
       "    <tr>\n",
       "      <th>1</th>\n",
       "      <td>Honda City 1.5 V AT</td>\n",
       "      <td>Delhi</td>\n",
       "      <td>2013</td>\n",
       "      <td>73977</td>\n",
       "      <td>Diesel</td>\n",
       "      <td>Manual</td>\n",
       "      <td>First</td>\n",
       "      <td>18.60</td>\n",
       "      <td>2993.0</td>\n",
       "      <td>61.0</td>\n",
       "      <td>4.0</td>\n",
       "      <td>NaN</td>\n",
       "      <td>4.58</td>\n",
       "    </tr>\n",
       "    <tr>\n",
       "      <th>2</th>\n",
       "      <td>Honda CR-V RVi MT</td>\n",
       "      <td>Delhi</td>\n",
       "      <td>2007</td>\n",
       "      <td>16460</td>\n",
       "      <td>CNG</td>\n",
       "      <td>Manual</td>\n",
       "      <td>Third</td>\n",
       "      <td>15.30</td>\n",
       "      <td>1599.0</td>\n",
       "      <td>140.0</td>\n",
       "      <td>5.0</td>\n",
       "      <td>NaN</td>\n",
       "      <td>2.37</td>\n",
       "    </tr>\n",
       "    <tr>\n",
       "      <th>3</th>\n",
       "      <td>Skoda Yeti Ambition 4X2</td>\n",
       "      <td>Kolkata</td>\n",
       "      <td>2009</td>\n",
       "      <td>35048</td>\n",
       "      <td>Petrol</td>\n",
       "      <td>Manual</td>\n",
       "      <td>First</td>\n",
       "      <td>25.47</td>\n",
       "      <td>1196.0</td>\n",
       "      <td>86.8</td>\n",
       "      <td>5.0</td>\n",
       "      <td>NaN</td>\n",
       "      <td>1.20</td>\n",
       "    </tr>\n",
       "    <tr>\n",
       "      <th>4</th>\n",
       "      <td>Hyundai i10 Magna LPG</td>\n",
       "      <td>Coimbatore</td>\n",
       "      <td>2013</td>\n",
       "      <td>41656</td>\n",
       "      <td>Petrol</td>\n",
       "      <td>Automatic</td>\n",
       "      <td>First</td>\n",
       "      <td>19.12</td>\n",
       "      <td>1999.0</td>\n",
       "      <td>115.0</td>\n",
       "      <td>7.0</td>\n",
       "      <td>13.26</td>\n",
       "      <td>33.04</td>\n",
       "    </tr>\n",
       "  </tbody>\n",
       "</table>\n",
       "</div>"
      ],
      "text/plain": [
       "                      Name    Location  Year  Kilometers_Driven Fuel_Type  \\\n",
       "0     Maruti 800 Std BSIII   Bangalore  2012              33715    Diesel   \n",
       "1      Honda City 1.5 V AT       Delhi  2013              73977    Diesel   \n",
       "2        Honda CR-V RVi MT       Delhi  2007              16460       CNG   \n",
       "3  Skoda Yeti Ambition 4X2     Kolkata  2009              35048    Petrol   \n",
       "4    Hyundai i10 Magna LPG  Coimbatore  2013              41656    Petrol   \n",
       "\n",
       "  Transmission Owner_Type  Mileage  Engine  Power  Seats  New_Price  Price  \n",
       "0       Manual      First    16.46  1248.0  100.0    5.0      43.65  25.53  \n",
       "1       Manual      First    18.60  2993.0   61.0    4.0        NaN   4.58  \n",
       "2       Manual      Third    15.30  1599.0  140.0    5.0        NaN   2.37  \n",
       "3       Manual      First    25.47  1196.0   86.8    5.0        NaN   1.20  \n",
       "4    Automatic      First    19.12  1999.0  115.0    7.0      13.26  33.04  "
      ]
     },
     "execution_count": 32,
     "metadata": {},
     "output_type": "execute_result"
    }
   ],
   "source": [
    "df.head()"
   ]
  },
  {
   "cell_type": "code",
   "execution_count": 33,
   "id": "54335a5c",
   "metadata": {},
   "outputs": [
    {
     "data": {
      "text/html": [
       "<div>\n",
       "<style scoped>\n",
       "    .dataframe tbody tr th:only-of-type {\n",
       "        vertical-align: middle;\n",
       "    }\n",
       "\n",
       "    .dataframe tbody tr th {\n",
       "        vertical-align: top;\n",
       "    }\n",
       "\n",
       "    .dataframe thead th {\n",
       "        text-align: right;\n",
       "    }\n",
       "</style>\n",
       "<table border=\"1\" class=\"dataframe\">\n",
       "  <thead>\n",
       "    <tr style=\"text-align: right;\">\n",
       "      <th></th>\n",
       "      <th>Year</th>\n",
       "      <th>Kilometers_Driven</th>\n",
       "      <th>Mileage</th>\n",
       "      <th>Engine</th>\n",
       "      <th>Power</th>\n",
       "      <th>Seats</th>\n",
       "      <th>New_Price</th>\n",
       "      <th>Price</th>\n",
       "    </tr>\n",
       "  </thead>\n",
       "  <tbody>\n",
       "    <tr>\n",
       "      <th>count</th>\n",
       "      <td>22499.000000</td>\n",
       "      <td>22499.000000</td>\n",
       "      <td>22407.000000</td>\n",
       "      <td>22462.000000</td>\n",
       "      <td>21702.000000</td>\n",
       "      <td>22407.000000</td>\n",
       "      <td>3881.000000</td>\n",
       "      <td>22499.000000</td>\n",
       "    </tr>\n",
       "    <tr>\n",
       "      <th>mean</th>\n",
       "      <td>2011.819281</td>\n",
       "      <td>49110.846749</td>\n",
       "      <td>17.659631</td>\n",
       "      <td>1637.347164</td>\n",
       "      <td>117.014640</td>\n",
       "      <td>5.352345</td>\n",
       "      <td>20.162950</td>\n",
       "      <td>6.359315</td>\n",
       "    </tr>\n",
       "    <tr>\n",
       "      <th>std</th>\n",
       "      <td>2.663827</td>\n",
       "      <td>21746.185914</td>\n",
       "      <td>4.638494</td>\n",
       "      <td>667.998435</td>\n",
       "      <td>65.210447</td>\n",
       "      <td>0.842959</td>\n",
       "      <td>25.548425</td>\n",
       "      <td>7.302888</td>\n",
       "    </tr>\n",
       "    <tr>\n",
       "      <th>min</th>\n",
       "      <td>2001.000000</td>\n",
       "      <td>171.000000</td>\n",
       "      <td>0.000000</td>\n",
       "      <td>72.000000</td>\n",
       "      <td>34.200000</td>\n",
       "      <td>4.000000</td>\n",
       "      <td>3.910000</td>\n",
       "      <td>0.440000</td>\n",
       "    </tr>\n",
       "    <tr>\n",
       "      <th>25%</th>\n",
       "      <td>2010.000000</td>\n",
       "      <td>35836.500000</td>\n",
       "      <td>14.460000</td>\n",
       "      <td>1197.000000</td>\n",
       "      <td>73.000000</td>\n",
       "      <td>5.000000</td>\n",
       "      <td>8.610000</td>\n",
       "      <td>2.290000</td>\n",
       "    </tr>\n",
       "    <tr>\n",
       "      <th>50%</th>\n",
       "      <td>2012.000000</td>\n",
       "      <td>47991.000000</td>\n",
       "      <td>17.800000</td>\n",
       "      <td>1493.000000</td>\n",
       "      <td>94.680000</td>\n",
       "      <td>5.000000</td>\n",
       "      <td>9.100000</td>\n",
       "      <td>3.510000</td>\n",
       "    </tr>\n",
       "    <tr>\n",
       "      <th>75%</th>\n",
       "      <td>2014.000000</td>\n",
       "      <td>59699.000000</td>\n",
       "      <td>20.700000</td>\n",
       "      <td>1995.000000</td>\n",
       "      <td>143.000000</td>\n",
       "      <td>5.000000</td>\n",
       "      <td>19.910000</td>\n",
       "      <td>6.590000</td>\n",
       "    </tr>\n",
       "    <tr>\n",
       "      <th>max</th>\n",
       "      <td>2018.000000</td>\n",
       "      <td>253494.000000</td>\n",
       "      <td>28.913793</td>\n",
       "      <td>5998.000000</td>\n",
       "      <td>560.000000</td>\n",
       "      <td>8.000000</td>\n",
       "      <td>230.000000</td>\n",
       "      <td>71.600000</td>\n",
       "    </tr>\n",
       "  </tbody>\n",
       "</table>\n",
       "</div>"
      ],
      "text/plain": [
       "               Year  Kilometers_Driven       Mileage        Engine  \\\n",
       "count  22499.000000       22499.000000  22407.000000  22462.000000   \n",
       "mean    2011.819281       49110.846749     17.659631   1637.347164   \n",
       "std        2.663827       21746.185914      4.638494    667.998435   \n",
       "min     2001.000000         171.000000      0.000000     72.000000   \n",
       "25%     2010.000000       35836.500000     14.460000   1197.000000   \n",
       "50%     2012.000000       47991.000000     17.800000   1493.000000   \n",
       "75%     2014.000000       59699.000000     20.700000   1995.000000   \n",
       "max     2018.000000      253494.000000     28.913793   5998.000000   \n",
       "\n",
       "              Power         Seats    New_Price         Price  \n",
       "count  21702.000000  22407.000000  3881.000000  22499.000000  \n",
       "mean     117.014640      5.352345    20.162950      6.359315  \n",
       "std       65.210447      0.842959    25.548425      7.302888  \n",
       "min       34.200000      4.000000     3.910000      0.440000  \n",
       "25%       73.000000      5.000000     8.610000      2.290000  \n",
       "50%       94.680000      5.000000     9.100000      3.510000  \n",
       "75%      143.000000      5.000000    19.910000      6.590000  \n",
       "max      560.000000      8.000000   230.000000     71.600000  "
      ]
     },
     "execution_count": 33,
     "metadata": {},
     "output_type": "execute_result"
    }
   ],
   "source": [
    "df.describe()"
   ]
  },
  {
   "cell_type": "code",
   "execution_count": 34,
   "id": "e08eb327",
   "metadata": {},
   "outputs": [
    {
     "data": {
      "text/html": [
       "<div>\n",
       "<style scoped>\n",
       "    .dataframe tbody tr th:only-of-type {\n",
       "        vertical-align: middle;\n",
       "    }\n",
       "\n",
       "    .dataframe tbody tr th {\n",
       "        vertical-align: top;\n",
       "    }\n",
       "\n",
       "    .dataframe thead th {\n",
       "        text-align: right;\n",
       "    }\n",
       "</style>\n",
       "<table border=\"1\" class=\"dataframe\">\n",
       "  <thead>\n",
       "    <tr style=\"text-align: right;\">\n",
       "      <th></th>\n",
       "      <th>Name</th>\n",
       "      <th>Location</th>\n",
       "      <th>Fuel_Type</th>\n",
       "      <th>Transmission</th>\n",
       "      <th>Owner_Type</th>\n",
       "    </tr>\n",
       "  </thead>\n",
       "  <tbody>\n",
       "    <tr>\n",
       "      <th>count</th>\n",
       "      <td>22499</td>\n",
       "      <td>22499</td>\n",
       "      <td>22499</td>\n",
       "      <td>22499</td>\n",
       "      <td>22499</td>\n",
       "    </tr>\n",
       "    <tr>\n",
       "      <th>unique</th>\n",
       "      <td>1204</td>\n",
       "      <td>11</td>\n",
       "      <td>5</td>\n",
       "      <td>2</td>\n",
       "      <td>4</td>\n",
       "    </tr>\n",
       "    <tr>\n",
       "      <th>top</th>\n",
       "      <td>Maruti Wagon R LXI CNG</td>\n",
       "      <td>Mumbai</td>\n",
       "      <td>Petrol</td>\n",
       "      <td>Manual</td>\n",
       "      <td>First</td>\n",
       "    </tr>\n",
       "    <tr>\n",
       "      <th>freq</th>\n",
       "      <td>142</td>\n",
       "      <td>4386</td>\n",
       "      <td>10155</td>\n",
       "      <td>18045</td>\n",
       "      <td>20257</td>\n",
       "    </tr>\n",
       "  </tbody>\n",
       "</table>\n",
       "</div>"
      ],
      "text/plain": [
       "                          Name Location Fuel_Type Transmission Owner_Type\n",
       "count                    22499    22499     22499        22499      22499\n",
       "unique                    1204       11         5            2          4\n",
       "top     Maruti Wagon R LXI CNG   Mumbai    Petrol       Manual      First\n",
       "freq                       142     4386     10155        18045      20257"
      ]
     },
     "execution_count": 34,
     "metadata": {},
     "output_type": "execute_result"
    }
   ],
   "source": [
    "df.describe(include='O')"
   ]
  },
  {
   "cell_type": "code",
   "execution_count": 35,
   "id": "e57f4575",
   "metadata": {},
   "outputs": [
    {
     "data": {
      "text/plain": [
       "Maruti Wagon R LXI CNG                     142\n",
       "Maruti Swift VDI                           133\n",
       "Honda City 1.5 S MT                        131\n",
       "Hyundai i10 Sportz                         114\n",
       "BMW 3 Series 320d                          111\n",
       "                                          ... \n",
       "BMW 5 Series 2013-2017 525d Luxury Line      1\n",
       "Honda Amaze S i-DTEC                         1\n",
       "Volkswagen Beetle 2.0                        1\n",
       "Toyota Camry A/T                             1\n",
       "Toyota Etios VXD                             1\n",
       "Name: Name, Length: 1204, dtype: int64"
      ]
     },
     "execution_count": 35,
     "metadata": {},
     "output_type": "execute_result"
    }
   ],
   "source": [
    "df['Name'].value_counts()"
   ]
  },
  {
   "cell_type": "code",
   "execution_count": 36,
   "id": "882aaba9",
   "metadata": {},
   "outputs": [
    {
     "data": {
      "text/plain": [
       "8.61"
      ]
     },
     "execution_count": 36,
     "metadata": {},
     "output_type": "execute_result"
    }
   ],
   "source": [
    "df[df['Name'] == 'Maruti Wagon R LXI CNG']['New_Price'].value_counts().index[0]"
   ]
  },
  {
   "cell_type": "code",
   "execution_count": 37,
   "id": "ad7de890",
   "metadata": {},
   "outputs": [],
   "source": [
    "m = dict()\n",
    "for i in df['Name'].value_counts().index:\n",
    "    if df[df['Name'] == i]['New_Price'].nunique() == 0:\n",
    "        m[i] = np.nan\n",
    "    else:\n",
    "        m[i] = df[df['Name'] == i]['New_Price'].value_counts().index[0]"
   ]
  },
  {
   "cell_type": "code",
   "execution_count": 38,
   "id": "0af0553d",
   "metadata": {},
   "outputs": [
    {
     "data": {
      "text/plain": [
       "Name                     0\n",
       "Location                 0\n",
       "Year                     0\n",
       "Kilometers_Driven        0\n",
       "Fuel_Type                0\n",
       "Transmission             0\n",
       "Owner_Type               0\n",
       "Mileage                 92\n",
       "Engine                  37\n",
       "Power                  797\n",
       "Seats                   92\n",
       "New_Price            18618\n",
       "Price                    0\n",
       "dtype: int64"
      ]
     },
     "execution_count": 38,
     "metadata": {},
     "output_type": "execute_result"
    }
   ],
   "source": [
    "df.isnull().sum()"
   ]
  },
  {
   "cell_type": "code",
   "execution_count": 39,
   "id": "5807f673",
   "metadata": {},
   "outputs": [],
   "source": [
    "df['NP'] = df['Name'].map(m)"
   ]
  },
  {
   "cell_type": "code",
   "execution_count": 40,
   "id": "5b82a215",
   "metadata": {},
   "outputs": [],
   "source": [
    "df['New_Price'].fillna(df['NP'],inplace=True)"
   ]
  },
  {
   "cell_type": "code",
   "execution_count": 41,
   "id": "f44ce083",
   "metadata": {},
   "outputs": [],
   "source": [
    "df.drop('NP',1,inplace=True)"
   ]
  },
  {
   "cell_type": "code",
   "execution_count": 42,
   "id": "e47720ba",
   "metadata": {},
   "outputs": [
    {
     "data": {
      "text/plain": [
       "Name                    0\n",
       "Location                0\n",
       "Year                    0\n",
       "Kilometers_Driven       0\n",
       "Fuel_Type               0\n",
       "Transmission            0\n",
       "Owner_Type              0\n",
       "Mileage                92\n",
       "Engine                 37\n",
       "Power                 797\n",
       "Seats                  92\n",
       "New_Price            1265\n",
       "Price                   0\n",
       "dtype: int64"
      ]
     },
     "execution_count": 42,
     "metadata": {},
     "output_type": "execute_result"
    }
   ],
   "source": [
    "df.isnull().sum()"
   ]
  },
  {
   "cell_type": "code",
   "execution_count": 43,
   "id": "7cfcf2d0",
   "metadata": {},
   "outputs": [],
   "source": [
    "m = dict()\n",
    "for i in df['Name'].value_counts().index:\n",
    "    m[i] = df[df['Name'] == i]['Engine'].median()"
   ]
  },
  {
   "cell_type": "code",
   "execution_count": 44,
   "id": "44aa6277",
   "metadata": {},
   "outputs": [],
   "source": [
    "df['E'] = df['Name'].map(m)\n",
    "df['Engine'].fillna(df['E'],inplace=True)"
   ]
  },
  {
   "cell_type": "code",
   "execution_count": 45,
   "id": "52521ba2",
   "metadata": {},
   "outputs": [
    {
     "data": {
      "text/plain": [
       "5.0"
      ]
     },
     "execution_count": 45,
     "metadata": {},
     "output_type": "execute_result"
    }
   ],
   "source": [
    "df[df['Name'] == 'Maruti Wagon R LXI CNG']['Seats'].median()"
   ]
  },
  {
   "cell_type": "code",
   "execution_count": 46,
   "id": "8091625c",
   "metadata": {},
   "outputs": [],
   "source": [
    "m = dict()\n",
    "for i in df['Name'].value_counts().index:\n",
    "    m[i] = df[df['Name'] == i]['Seats'].median()"
   ]
  },
  {
   "cell_type": "code",
   "execution_count": 47,
   "id": "1f71141d",
   "metadata": {},
   "outputs": [],
   "source": [
    "df['S'] = df['Name'].map(m)\n",
    "df['Seats'].fillna(df['S'],inplace=True)"
   ]
  },
  {
   "cell_type": "code",
   "execution_count": 48,
   "id": "18fd594e",
   "metadata": {},
   "outputs": [],
   "source": [
    "df.drop(['E','S'],1,inplace=True)"
   ]
  },
  {
   "cell_type": "code",
   "execution_count": 49,
   "id": "c3f01e25",
   "metadata": {},
   "outputs": [
    {
     "data": {
      "text/plain": [
       "Name                    0\n",
       "Location                0\n",
       "Year                    0\n",
       "Kilometers_Driven       0\n",
       "Fuel_Type               0\n",
       "Transmission            0\n",
       "Owner_Type              0\n",
       "Mileage                92\n",
       "Engine                  0\n",
       "Power                 797\n",
       "Seats                   0\n",
       "New_Price            1265\n",
       "Price                   0\n",
       "dtype: int64"
      ]
     },
     "execution_count": 49,
     "metadata": {},
     "output_type": "execute_result"
    }
   ],
   "source": [
    "df.isnull().sum()"
   ]
  },
  {
   "cell_type": "code",
   "execution_count": 50,
   "id": "c0a95dda",
   "metadata": {},
   "outputs": [
    {
     "data": {
      "text/plain": [
       "82.0"
      ]
     },
     "execution_count": 50,
     "metadata": {},
     "output_type": "execute_result"
    }
   ],
   "source": [
    "df[df['Name'] == 'Maruti Wagon R LXI CNG']['Power'].median()"
   ]
  },
  {
   "cell_type": "code",
   "execution_count": 51,
   "id": "a9f77f23",
   "metadata": {},
   "outputs": [],
   "source": [
    "m = dict()\n",
    "for i in df['Name'].value_counts().index:\n",
    "    m[i] = df[df['Name'] == i]['Power'].median()\n",
    "df['P'] = df['Name'].map(m)\n",
    "df['Power'].fillna(df['P'],inplace=True)\n",
    "df.drop('P',1,inplace=True)"
   ]
  },
  {
   "cell_type": "code",
   "execution_count": 52,
   "id": "b374e44d",
   "metadata": {},
   "outputs": [
    {
     "data": {
      "text/plain": [
       "Name                    0\n",
       "Location                0\n",
       "Year                    0\n",
       "Kilometers_Driven       0\n",
       "Fuel_Type               0\n",
       "Transmission            0\n",
       "Owner_Type              0\n",
       "Mileage                92\n",
       "Engine                  0\n",
       "Power                   1\n",
       "Seats                   0\n",
       "New_Price            1265\n",
       "Price                   0\n",
       "dtype: int64"
      ]
     },
     "execution_count": 52,
     "metadata": {},
     "output_type": "execute_result"
    }
   ],
   "source": [
    "df.isnull().sum()"
   ]
  },
  {
   "cell_type": "code",
   "execution_count": 53,
   "id": "3100c5d3",
   "metadata": {},
   "outputs": [
    {
     "data": {
      "text/plain": [
       "Maruti Ciaz Alpha                       53\n",
       "Hyundai Xcent 1.2 Kappa S Option CNG    43\n",
       "Maruti Wagon R Vx                       41\n",
       "Maruti Wagon R Duo Lxi                  38\n",
       "Mercedes-Benz GLE 250d                  35\n",
       "                                        ..\n",
       "BMW 7 Series 2007-2012 730Ld             1\n",
       "Hyundai Verna 1.6 CRDi EX MT             1\n",
       "Mahindra Scorpio VLX 2.2 mHawk BSIII     1\n",
       "Maruti Baleno Alpha CVT                  1\n",
       "Honda Amaze VX i-Vtech                   1\n",
       "Name: Name, Length: 136, dtype: int64"
      ]
     },
     "execution_count": 53,
     "metadata": {},
     "output_type": "execute_result"
    }
   ],
   "source": [
    "df[df['New_Price'].isnull()]['Name'].value_counts()"
   ]
  },
  {
   "cell_type": "code",
   "execution_count": 54,
   "id": "a350c0de",
   "metadata": {},
   "outputs": [
    {
     "data": {
      "text/plain": [
       "22499"
      ]
     },
     "execution_count": 54,
     "metadata": {},
     "output_type": "execute_result"
    }
   ],
   "source": [
    "len(df)"
   ]
  },
  {
   "cell_type": "code",
   "execution_count": 55,
   "id": "3e1186df",
   "metadata": {},
   "outputs": [
    {
     "data": {
      "text/plain": [
       "Name                 0.000000\n",
       "Location             0.000000\n",
       "Year                 0.000000\n",
       "Kilometers_Driven    0.000000\n",
       "Fuel_Type            0.000000\n",
       "Transmission         0.000000\n",
       "Owner_Type           0.000000\n",
       "Mileage              0.408907\n",
       "Engine               0.000000\n",
       "Power                0.004445\n",
       "Seats                0.000000\n",
       "New_Price            5.622472\n",
       "Price                0.000000\n",
       "dtype: float64"
      ]
     },
     "execution_count": 55,
     "metadata": {},
     "output_type": "execute_result"
    }
   ],
   "source": [
    "df.isnull().sum()/len(df)*100"
   ]
  },
  {
   "cell_type": "code",
   "execution_count": 56,
   "id": "6633ef52",
   "metadata": {},
   "outputs": [],
   "source": [
    "df = df.dropna()"
   ]
  },
  {
   "cell_type": "code",
   "execution_count": 57,
   "id": "af44185f",
   "metadata": {},
   "outputs": [
    {
     "data": {
      "text/plain": [
       "Name                 0\n",
       "Location             0\n",
       "Year                 0\n",
       "Kilometers_Driven    0\n",
       "Fuel_Type            0\n",
       "Transmission         0\n",
       "Owner_Type           0\n",
       "Mileage              0\n",
       "Engine               0\n",
       "Power                0\n",
       "Seats                0\n",
       "New_Price            0\n",
       "Price                0\n",
       "dtype: int64"
      ]
     },
     "execution_count": 57,
     "metadata": {},
     "output_type": "execute_result"
    }
   ],
   "source": [
    "df.isnull().sum()"
   ]
  },
  {
   "cell_type": "code",
   "execution_count": 58,
   "id": "d7283dbf",
   "metadata": {},
   "outputs": [
    {
     "data": {
      "image/png": "[encoded data removed]",
      "text/plain": [
       "<Figure size 1080x576 with 1 Axes>"
      ]
     },
     "metadata": {
      "needs_background": "light"
     },
     "output_type": "display_data"
    }
   ],
   "source": [
    "df.plot(kind='box')\n",
    "plt.show()"
   ]
  },
  {
   "cell_type": "code",
   "execution_count": 59,
   "id": "f30f777c",
   "metadata": {},
   "outputs": [
    {
     "data": {
      "text/html": [
       "<div>\n",
       "<style scoped>\n",
       "    .dataframe tbody tr th:only-of-type {\n",
       "        vertical-align: middle;\n",
       "    }\n",
       "\n",
       "    .dataframe tbody tr th {\n",
       "        vertical-align: top;\n",
       "    }\n",
       "\n",
       "    .dataframe thead th {\n",
       "        text-align: right;\n",
       "    }\n",
       "</style>\n",
       "<table border=\"1\" class=\"dataframe\">\n",
       "  <thead>\n",
       "    <tr style=\"text-align: right;\">\n",
       "      <th></th>\n",
       "      <th>Year</th>\n",
       "      <th>Kilometers_Driven</th>\n",
       "      <th>Mileage</th>\n",
       "      <th>Engine</th>\n",
       "      <th>Power</th>\n",
       "      <th>Seats</th>\n",
       "      <th>New_Price</th>\n",
       "      <th>Price</th>\n",
       "    </tr>\n",
       "  </thead>\n",
       "  <tbody>\n",
       "    <tr>\n",
       "      <th>count</th>\n",
       "      <td>21150.000000</td>\n",
       "      <td>21150.000000</td>\n",
       "      <td>21150.000000</td>\n",
       "      <td>21150.000000</td>\n",
       "      <td>21150.000000</td>\n",
       "      <td>21150.000000</td>\n",
       "      <td>21150.000000</td>\n",
       "      <td>21150.000000</td>\n",
       "    </tr>\n",
       "    <tr>\n",
       "      <th>mean</th>\n",
       "      <td>2011.863688</td>\n",
       "      <td>48942.397258</td>\n",
       "      <td>17.672005</td>\n",
       "      <td>1644.024444</td>\n",
       "      <td>116.741706</td>\n",
       "      <td>5.356028</td>\n",
       "      <td>18.553905</td>\n",
       "      <td>6.439464</td>\n",
       "    </tr>\n",
       "    <tr>\n",
       "      <th>std</th>\n",
       "      <td>2.651455</td>\n",
       "      <td>21659.706121</td>\n",
       "      <td>4.640743</td>\n",
       "      <td>668.631007</td>\n",
       "      <td>64.642064</td>\n",
       "      <td>0.846012</td>\n",
       "      <td>24.065918</td>\n",
       "      <td>7.360637</td>\n",
       "    </tr>\n",
       "    <tr>\n",
       "      <th>min</th>\n",
       "      <td>2001.000000</td>\n",
       "      <td>171.000000</td>\n",
       "      <td>0.000000</td>\n",
       "      <td>72.000000</td>\n",
       "      <td>34.200000</td>\n",
       "      <td>4.000000</td>\n",
       "      <td>3.910000</td>\n",
       "      <td>0.440000</td>\n",
       "    </tr>\n",
       "    <tr>\n",
       "      <th>25%</th>\n",
       "      <td>2010.000000</td>\n",
       "      <td>35738.000000</td>\n",
       "      <td>14.420000</td>\n",
       "      <td>1197.000000</td>\n",
       "      <td>73.000000</td>\n",
       "      <td>5.000000</td>\n",
       "      <td>8.610000</td>\n",
       "      <td>2.300000</td>\n",
       "    </tr>\n",
       "    <tr>\n",
       "      <th>50%</th>\n",
       "      <td>2012.000000</td>\n",
       "      <td>47882.000000</td>\n",
       "      <td>17.800000</td>\n",
       "      <td>1496.000000</td>\n",
       "      <td>95.000000</td>\n",
       "      <td>5.000000</td>\n",
       "      <td>8.610000</td>\n",
       "      <td>3.580000</td>\n",
       "    </tr>\n",
       "    <tr>\n",
       "      <th>75%</th>\n",
       "      <td>2014.000000</td>\n",
       "      <td>59548.750000</td>\n",
       "      <td>20.700000</td>\n",
       "      <td>1995.000000</td>\n",
       "      <td>141.100000</td>\n",
       "      <td>5.000000</td>\n",
       "      <td>15.360000</td>\n",
       "      <td>6.730000</td>\n",
       "    </tr>\n",
       "    <tr>\n",
       "      <th>max</th>\n",
       "      <td>2018.000000</td>\n",
       "      <td>253494.000000</td>\n",
       "      <td>28.913793</td>\n",
       "      <td>5998.000000</td>\n",
       "      <td>560.000000</td>\n",
       "      <td>8.000000</td>\n",
       "      <td>230.000000</td>\n",
       "      <td>71.600000</td>\n",
       "    </tr>\n",
       "  </tbody>\n",
       "</table>\n",
       "</div>"
      ],
      "text/plain": [
       "               Year  Kilometers_Driven       Mileage        Engine  \\\n",
       "count  21150.000000       21150.000000  21150.000000  21150.000000   \n",
       "mean    2011.863688       48942.397258     17.672005   1644.024444   \n",
       "std        2.651455       21659.706121      4.640743    668.631007   \n",
       "min     2001.000000         171.000000      0.000000     72.000000   \n",
       "25%     2010.000000       35738.000000     14.420000   1197.000000   \n",
       "50%     2012.000000       47882.000000     17.800000   1496.000000   \n",
       "75%     2014.000000       59548.750000     20.700000   1995.000000   \n",
       "max     2018.000000      253494.000000     28.913793   5998.000000   \n",
       "\n",
       "              Power         Seats     New_Price         Price  \n",
       "count  21150.000000  21150.000000  21150.000000  21150.000000  \n",
       "mean     116.741706      5.356028     18.553905      6.439464  \n",
       "std       64.642064      0.846012     24.065918      7.360637  \n",
       "min       34.200000      4.000000      3.910000      0.440000  \n",
       "25%       73.000000      5.000000      8.610000      2.300000  \n",
       "50%       95.000000      5.000000      8.610000      3.580000  \n",
       "75%      141.100000      5.000000     15.360000      6.730000  \n",
       "max      560.000000      8.000000    230.000000     71.600000  "
      ]
     },
     "execution_count": 59,
     "metadata": {},
     "output_type": "execute_result"
    }
   ],
   "source": [
    "df.describe()"
   ]
  },
  {
   "cell_type": "code",
   "execution_count": 60,
   "id": "cad7c8ef",
   "metadata": {},
   "outputs": [
    {
     "data": {
      "text/html": [
       "<div>\n",
       "<style scoped>\n",
       "    .dataframe tbody tr th:only-of-type {\n",
       "        vertical-align: middle;\n",
       "    }\n",
       "\n",
       "    .dataframe tbody tr th {\n",
       "        vertical-align: top;\n",
       "    }\n",
       "\n",
       "    .dataframe thead th {\n",
       "        text-align: right;\n",
       "    }\n",
       "</style>\n",
       "<table border=\"1\" class=\"dataframe\">\n",
       "  <thead>\n",
       "    <tr style=\"text-align: right;\">\n",
       "      <th></th>\n",
       "      <th>Name</th>\n",
       "      <th>Location</th>\n",
       "      <th>Fuel_Type</th>\n",
       "      <th>Transmission</th>\n",
       "      <th>Owner_Type</th>\n",
       "    </tr>\n",
       "  </thead>\n",
       "  <tbody>\n",
       "    <tr>\n",
       "      <th>count</th>\n",
       "      <td>21150</td>\n",
       "      <td>21150</td>\n",
       "      <td>21150</td>\n",
       "      <td>21150</td>\n",
       "      <td>21150</td>\n",
       "    </tr>\n",
       "    <tr>\n",
       "      <th>unique</th>\n",
       "      <td>1068</td>\n",
       "      <td>11</td>\n",
       "      <td>5</td>\n",
       "      <td>2</td>\n",
       "      <td>4</td>\n",
       "    </tr>\n",
       "    <tr>\n",
       "      <th>top</th>\n",
       "      <td>Maruti Wagon R LXI CNG</td>\n",
       "      <td>Mumbai</td>\n",
       "      <td>Diesel</td>\n",
       "      <td>Manual</td>\n",
       "      <td>First</td>\n",
       "    </tr>\n",
       "    <tr>\n",
       "      <th>freq</th>\n",
       "      <td>141</td>\n",
       "      <td>3987</td>\n",
       "      <td>9563</td>\n",
       "      <td>16878</td>\n",
       "      <td>19087</td>\n",
       "    </tr>\n",
       "  </tbody>\n",
       "</table>\n",
       "</div>"
      ],
      "text/plain": [
       "                          Name Location Fuel_Type Transmission Owner_Type\n",
       "count                    21150    21150     21150        21150      21150\n",
       "unique                    1068       11         5            2          4\n",
       "top     Maruti Wagon R LXI CNG   Mumbai    Diesel       Manual      First\n",
       "freq                       141     3987      9563        16878      19087"
      ]
     },
     "execution_count": 60,
     "metadata": {},
     "output_type": "execute_result"
    }
   ],
   "source": [
    "df.describe(include='O')"
   ]
  },
  {
   "cell_type": "code",
   "execution_count": 61,
   "id": "8c0fea34",
   "metadata": {},
   "outputs": [],
   "source": [
    "df_num = df.select_dtypes(np.number)\n",
    "df_cat = df.select_dtypes('O')"
   ]
  },
  {
   "cell_type": "code",
   "execution_count": 62,
   "id": "14c1cfa3",
   "metadata": {},
   "outputs": [],
   "source": [
    "df.drop('Name',1,inplace=True)\n",
    "df_cat.drop('Name',1,inplace=True)"
   ]
  },
  {
   "cell_type": "code",
   "execution_count": 63,
   "id": "76bafd21",
   "metadata": {},
   "outputs": [
    {
     "data": {
      "text/plain": [
       "Mumbai        3987\n",
       "Hyderabad     3654\n",
       "Kolkata       3297\n",
       "Chennai       2229\n",
       "Jaipur        1615\n",
       "Delhi         1415\n",
       "Bangalore     1227\n",
       "Kochi         1095\n",
       "Coimbatore    1031\n",
       "Pune           937\n",
       "Ahmedabad      663\n",
       "Name: Location, dtype: int64"
      ]
     },
     "execution_count": 63,
     "metadata": {},
     "output_type": "execute_result"
    }
   ],
   "source": [
    "df['Location'].value_counts()"
   ]
  },
  {
   "cell_type": "code",
   "execution_count": 64,
   "id": "c2837cd3",
   "metadata": {},
   "outputs": [],
   "source": [
    "LE = LabelEncoder()\n",
    "df['Location'] = LE.fit_transform(df['Location'])"
   ]
  },
  {
   "cell_type": "code",
   "execution_count": 65,
   "id": "865b0029",
   "metadata": {},
   "outputs": [
    {
     "data": {
      "text/html": [
       "<div>\n",
       "<style scoped>\n",
       "    .dataframe tbody tr th:only-of-type {\n",
       "        vertical-align: middle;\n",
       "    }\n",
       "\n",
       "    .dataframe tbody tr th {\n",
       "        vertical-align: top;\n",
       "    }\n",
       "\n",
       "    .dataframe thead th {\n",
       "        text-align: right;\n",
       "    }\n",
       "</style>\n",
       "<table border=\"1\" class=\"dataframe\">\n",
       "  <thead>\n",
       "    <tr style=\"text-align: right;\">\n",
       "      <th></th>\n",
       "      <th>Location</th>\n",
       "      <th>Year</th>\n",
       "      <th>Kilometers_Driven</th>\n",
       "      <th>Fuel_Type</th>\n",
       "      <th>Transmission</th>\n",
       "      <th>Owner_Type</th>\n",
       "      <th>Mileage</th>\n",
       "      <th>Engine</th>\n",
       "      <th>Power</th>\n",
       "      <th>Seats</th>\n",
       "      <th>New_Price</th>\n",
       "      <th>Price</th>\n",
       "    </tr>\n",
       "  </thead>\n",
       "  <tbody>\n",
       "    <tr>\n",
       "      <th>0</th>\n",
       "      <td>1</td>\n",
       "      <td>2012</td>\n",
       "      <td>33715</td>\n",
       "      <td>Diesel</td>\n",
       "      <td>Manual</td>\n",
       "      <td>First</td>\n",
       "      <td>16.46</td>\n",
       "      <td>1248.0</td>\n",
       "      <td>100.0</td>\n",
       "      <td>5.0</td>\n",
       "      <td>43.65</td>\n",
       "      <td>25.53</td>\n",
       "    </tr>\n",
       "    <tr>\n",
       "      <th>1</th>\n",
       "      <td>4</td>\n",
       "      <td>2013</td>\n",
       "      <td>73977</td>\n",
       "      <td>Diesel</td>\n",
       "      <td>Manual</td>\n",
       "      <td>First</td>\n",
       "      <td>18.60</td>\n",
       "      <td>2993.0</td>\n",
       "      <td>61.0</td>\n",
       "      <td>4.0</td>\n",
       "      <td>14.23</td>\n",
       "      <td>4.58</td>\n",
       "    </tr>\n",
       "    <tr>\n",
       "      <th>2</th>\n",
       "      <td>4</td>\n",
       "      <td>2007</td>\n",
       "      <td>16460</td>\n",
       "      <td>CNG</td>\n",
       "      <td>Manual</td>\n",
       "      <td>Third</td>\n",
       "      <td>15.30</td>\n",
       "      <td>1599.0</td>\n",
       "      <td>140.0</td>\n",
       "      <td>5.0</td>\n",
       "      <td>11.19</td>\n",
       "      <td>2.37</td>\n",
       "    </tr>\n",
       "    <tr>\n",
       "      <th>3</th>\n",
       "      <td>8</td>\n",
       "      <td>2009</td>\n",
       "      <td>35048</td>\n",
       "      <td>Petrol</td>\n",
       "      <td>Manual</td>\n",
       "      <td>First</td>\n",
       "      <td>25.47</td>\n",
       "      <td>1196.0</td>\n",
       "      <td>86.8</td>\n",
       "      <td>5.0</td>\n",
       "      <td>36.94</td>\n",
       "      <td>1.20</td>\n",
       "    </tr>\n",
       "    <tr>\n",
       "      <th>4</th>\n",
       "      <td>3</td>\n",
       "      <td>2013</td>\n",
       "      <td>41656</td>\n",
       "      <td>Petrol</td>\n",
       "      <td>Automatic</td>\n",
       "      <td>First</td>\n",
       "      <td>19.12</td>\n",
       "      <td>1999.0</td>\n",
       "      <td>115.0</td>\n",
       "      <td>7.0</td>\n",
       "      <td>13.26</td>\n",
       "      <td>33.04</td>\n",
       "    </tr>\n",
       "  </tbody>\n",
       "</table>\n",
       "</div>"
      ],
      "text/plain": [
       "   Location  Year  Kilometers_Driven Fuel_Type Transmission Owner_Type  \\\n",
       "0         1  2012              33715    Diesel       Manual      First   \n",
       "1         4  2013              73977    Diesel       Manual      First   \n",
       "2         4  2007              16460       CNG       Manual      Third   \n",
       "3         8  2009              35048    Petrol       Manual      First   \n",
       "4         3  2013              41656    Petrol    Automatic      First   \n",
       "\n",
       "   Mileage  Engine  Power  Seats  New_Price  Price  \n",
       "0    16.46  1248.0  100.0    5.0      43.65  25.53  \n",
       "1    18.60  2993.0   61.0    4.0      14.23   4.58  \n",
       "2    15.30  1599.0  140.0    5.0      11.19   2.37  \n",
       "3    25.47  1196.0   86.8    5.0      36.94   1.20  \n",
       "4    19.12  1999.0  115.0    7.0      13.26  33.04  "
      ]
     },
     "execution_count": 65,
     "metadata": {},
     "output_type": "execute_result"
    }
   ],
   "source": [
    "df.head()"
   ]
  },
  {
   "cell_type": "code",
   "execution_count": 66,
   "id": "f301f6ac",
   "metadata": {},
   "outputs": [],
   "source": [
    "df = pd.get_dummies(data=df,columns=['Fuel_Type','Transmission','Owner_Type'],drop_first=True)"
   ]
  },
  {
   "cell_type": "code",
   "execution_count": 67,
   "id": "5c77ff64",
   "metadata": {},
   "outputs": [
    {
     "data": {
      "text/html": [
       "<div>\n",
       "<style scoped>\n",
       "    .dataframe tbody tr th:only-of-type {\n",
       "        vertical-align: middle;\n",
       "    }\n",
       "\n",
       "    .dataframe tbody tr th {\n",
       "        vertical-align: top;\n",
       "    }\n",
       "\n",
       "    .dataframe thead th {\n",
       "        text-align: right;\n",
       "    }\n",
       "</style>\n",
       "<table border=\"1\" class=\"dataframe\">\n",
       "  <thead>\n",
       "    <tr style=\"text-align: right;\">\n",
       "      <th></th>\n",
       "      <th>Location</th>\n",
       "      <th>Year</th>\n",
       "      <th>Kilometers_Driven</th>\n",
       "      <th>Mileage</th>\n",
       "      <th>Engine</th>\n",
       "      <th>Power</th>\n",
       "      <th>Seats</th>\n",
       "      <th>New_Price</th>\n",
       "      <th>Price</th>\n",
       "      <th>Fuel_Type_Diesel</th>\n",
       "      <th>Fuel_Type_Electric</th>\n",
       "      <th>Fuel_Type_LPG</th>\n",
       "      <th>Fuel_Type_Petrol</th>\n",
       "      <th>Transmission_Manual</th>\n",
       "      <th>Owner_Type_Fourth &amp; Above</th>\n",
       "      <th>Owner_Type_Second</th>\n",
       "      <th>Owner_Type_Third</th>\n",
       "    </tr>\n",
       "  </thead>\n",
       "  <tbody>\n",
       "    <tr>\n",
       "      <th>0</th>\n",
       "      <td>1</td>\n",
       "      <td>2012</td>\n",
       "      <td>33715</td>\n",
       "      <td>16.46</td>\n",
       "      <td>1248.0</td>\n",
       "      <td>100.0</td>\n",
       "      <td>5.0</td>\n",
       "      <td>43.65</td>\n",
       "      <td>25.53</td>\n",
       "      <td>1</td>\n",
       "      <td>0</td>\n",
       "      <td>0</td>\n",
       "      <td>0</td>\n",
       "      <td>1</td>\n",
       "      <td>0</td>\n",
       "      <td>0</td>\n",
       "      <td>0</td>\n",
       "    </tr>\n",
       "    <tr>\n",
       "      <th>1</th>\n",
       "      <td>4</td>\n",
       "      <td>2013</td>\n",
       "      <td>73977</td>\n",
       "      <td>18.60</td>\n",
       "      <td>2993.0</td>\n",
       "      <td>61.0</td>\n",
       "      <td>4.0</td>\n",
       "      <td>14.23</td>\n",
       "      <td>4.58</td>\n",
       "      <td>1</td>\n",
       "      <td>0</td>\n",
       "      <td>0</td>\n",
       "      <td>0</td>\n",
       "      <td>1</td>\n",
       "      <td>0</td>\n",
       "      <td>0</td>\n",
       "      <td>0</td>\n",
       "    </tr>\n",
       "    <tr>\n",
       "      <th>2</th>\n",
       "      <td>4</td>\n",
       "      <td>2007</td>\n",
       "      <td>16460</td>\n",
       "      <td>15.30</td>\n",
       "      <td>1599.0</td>\n",
       "      <td>140.0</td>\n",
       "      <td>5.0</td>\n",
       "      <td>11.19</td>\n",
       "      <td>2.37</td>\n",
       "      <td>0</td>\n",
       "      <td>0</td>\n",
       "      <td>0</td>\n",
       "      <td>0</td>\n",
       "      <td>1</td>\n",
       "      <td>0</td>\n",
       "      <td>0</td>\n",
       "      <td>1</td>\n",
       "    </tr>\n",
       "    <tr>\n",
       "      <th>3</th>\n",
       "      <td>8</td>\n",
       "      <td>2009</td>\n",
       "      <td>35048</td>\n",
       "      <td>25.47</td>\n",
       "      <td>1196.0</td>\n",
       "      <td>86.8</td>\n",
       "      <td>5.0</td>\n",
       "      <td>36.94</td>\n",
       "      <td>1.20</td>\n",
       "      <td>0</td>\n",
       "      <td>0</td>\n",
       "      <td>0</td>\n",
       "      <td>1</td>\n",
       "      <td>1</td>\n",
       "      <td>0</td>\n",
       "      <td>0</td>\n",
       "      <td>0</td>\n",
       "    </tr>\n",
       "    <tr>\n",
       "      <th>4</th>\n",
       "      <td>3</td>\n",
       "      <td>2013</td>\n",
       "      <td>41656</td>\n",
       "      <td>19.12</td>\n",
       "      <td>1999.0</td>\n",
       "      <td>115.0</td>\n",
       "      <td>7.0</td>\n",
       "      <td>13.26</td>\n",
       "      <td>33.04</td>\n",
       "      <td>0</td>\n",
       "      <td>0</td>\n",
       "      <td>0</td>\n",
       "      <td>1</td>\n",
       "      <td>0</td>\n",
       "      <td>0</td>\n",
       "      <td>0</td>\n",
       "      <td>0</td>\n",
       "    </tr>\n",
       "  </tbody>\n",
       "</table>\n",
       "</div>"
      ],
      "text/plain": [
       "   Location  Year  Kilometers_Driven  Mileage  Engine  Power  Seats  \\\n",
       "0         1  2012              33715    16.46  1248.0  100.0    5.0   \n",
       "1         4  2013              73977    18.60  2993.0   61.0    4.0   \n",
       "2         4  2007              16460    15.30  1599.0  140.0    5.0   \n",
       "3         8  2009              35048    25.47  1196.0   86.8    5.0   \n",
       "4         3  2013              41656    19.12  1999.0  115.0    7.0   \n",
       "\n",
       "   New_Price  Price  Fuel_Type_Diesel  Fuel_Type_Electric  Fuel_Type_LPG  \\\n",
       "0      43.65  25.53                 1                   0              0   \n",
       "1      14.23   4.58                 1                   0              0   \n",
       "2      11.19   2.37                 0                   0              0   \n",
       "3      36.94   1.20                 0                   0              0   \n",
       "4      13.26  33.04                 0                   0              0   \n",
       "\n",
       "   Fuel_Type_Petrol  Transmission_Manual  Owner_Type_Fourth & Above  \\\n",
       "0                 0                    1                          0   \n",
       "1                 0                    1                          0   \n",
       "2                 0                    1                          0   \n",
       "3                 1                    1                          0   \n",
       "4                 1                    0                          0   \n",
       "\n",
       "   Owner_Type_Second  Owner_Type_Third  \n",
       "0                  0                 0  \n",
       "1                  0                 0  \n",
       "2                  0                 1  \n",
       "3                  0                 0  \n",
       "4                  0                 0  "
      ]
     },
     "execution_count": 67,
     "metadata": {},
     "output_type": "execute_result"
    }
   ],
   "source": [
    "df.head()"
   ]
  },
  {
   "cell_type": "code",
   "execution_count": 68,
   "id": "5d7bb292",
   "metadata": {},
   "outputs": [],
   "source": [
    "x = df.drop('Price',1)\n",
    "y = df['Price']\n",
    "xtrain,xtest,ytrain,ytest = train_test_split(x,y,test_size=0.3,random_state=10)"
   ]
  },
  {
   "cell_type": "code",
   "execution_count": 69,
   "id": "3caf96a5",
   "metadata": {},
   "outputs": [],
   "source": [
    "SS = StandardScaler()\n",
    "xtrain.iloc[:,1:8] = SS.fit_transform(xtrain.iloc[:,1:8])\n",
    "xtest.iloc[:,1:8] = SS.transform(xtest.iloc[:,1:8])"
   ]
  },
  {
   "cell_type": "code",
   "execution_count": 70,
   "id": "542e2316",
   "metadata": {},
   "outputs": [
    {
     "data": {
      "text/html": [
       "<div>\n",
       "<style scoped>\n",
       "    .dataframe tbody tr th:only-of-type {\n",
       "        vertical-align: middle;\n",
       "    }\n",
       "\n",
       "    .dataframe tbody tr th {\n",
       "        vertical-align: top;\n",
       "    }\n",
       "\n",
       "    .dataframe thead th {\n",
       "        text-align: right;\n",
       "    }\n",
       "</style>\n",
       "<table border=\"1\" class=\"dataframe\">\n",
       "  <thead>\n",
       "    <tr style=\"text-align: right;\">\n",
       "      <th></th>\n",
       "      <th>Location</th>\n",
       "      <th>Year</th>\n",
       "      <th>Kilometers_Driven</th>\n",
       "      <th>Mileage</th>\n",
       "      <th>Engine</th>\n",
       "      <th>Power</th>\n",
       "      <th>Seats</th>\n",
       "      <th>New_Price</th>\n",
       "      <th>Fuel_Type_Diesel</th>\n",
       "      <th>Fuel_Type_Electric</th>\n",
       "      <th>Fuel_Type_LPG</th>\n",
       "      <th>Fuel_Type_Petrol</th>\n",
       "      <th>Transmission_Manual</th>\n",
       "      <th>Owner_Type_Fourth &amp; Above</th>\n",
       "      <th>Owner_Type_Second</th>\n",
       "      <th>Owner_Type_Third</th>\n",
       "    </tr>\n",
       "  </thead>\n",
       "  <tbody>\n",
       "    <tr>\n",
       "      <th>3326</th>\n",
       "      <td>1</td>\n",
       "      <td>0.052208</td>\n",
       "      <td>0.031723</td>\n",
       "      <td>1.003712</td>\n",
       "      <td>1.993112</td>\n",
       "      <td>-0.910926</td>\n",
       "      <td>1.951432</td>\n",
       "      <td>-0.410146</td>\n",
       "      <td>1</td>\n",
       "      <td>0</td>\n",
       "      <td>0</td>\n",
       "      <td>0</td>\n",
       "      <td>0</td>\n",
       "      <td>0</td>\n",
       "      <td>0</td>\n",
       "      <td>0</td>\n",
       "    </tr>\n",
       "    <tr>\n",
       "      <th>8894</th>\n",
       "      <td>1</td>\n",
       "      <td>0.428698</td>\n",
       "      <td>0.454812</td>\n",
       "      <td>0.434663</td>\n",
       "      <td>-0.594964</td>\n",
       "      <td>0.900741</td>\n",
       "      <td>-0.423199</td>\n",
       "      <td>0.628135</td>\n",
       "      <td>0</td>\n",
       "      <td>0</td>\n",
       "      <td>0</td>\n",
       "      <td>1</td>\n",
       "      <td>0</td>\n",
       "      <td>0</td>\n",
       "      <td>0</td>\n",
       "      <td>0</td>\n",
       "    </tr>\n",
       "    <tr>\n",
       "      <th>10241</th>\n",
       "      <td>8</td>\n",
       "      <td>-0.324282</td>\n",
       "      <td>-1.410317</td>\n",
       "      <td>-0.460783</td>\n",
       "      <td>-0.224388</td>\n",
       "      <td>-0.771711</td>\n",
       "      <td>-0.423199</td>\n",
       "      <td>-0.410146</td>\n",
       "      <td>1</td>\n",
       "      <td>0</td>\n",
       "      <td>0</td>\n",
       "      <td>0</td>\n",
       "      <td>1</td>\n",
       "      <td>0</td>\n",
       "      <td>0</td>\n",
       "      <td>0</td>\n",
       "    </tr>\n",
       "    <tr>\n",
       "      <th>17367</th>\n",
       "      <td>9</td>\n",
       "      <td>2.311148</td>\n",
       "      <td>-0.232420</td>\n",
       "      <td>-1.384145</td>\n",
       "      <td>4.700248</td>\n",
       "      <td>0.363501</td>\n",
       "      <td>-0.423199</td>\n",
       "      <td>-0.312401</td>\n",
       "      <td>0</td>\n",
       "      <td>0</td>\n",
       "      <td>0</td>\n",
       "      <td>1</td>\n",
       "      <td>0</td>\n",
       "      <td>0</td>\n",
       "      <td>0</td>\n",
       "      <td>0</td>\n",
       "    </tr>\n",
       "    <tr>\n",
       "      <th>5320</th>\n",
       "      <td>9</td>\n",
       "      <td>1.181678</td>\n",
       "      <td>-0.035944</td>\n",
       "      <td>0.146918</td>\n",
       "      <td>-0.277965</td>\n",
       "      <td>-1.080040</td>\n",
       "      <td>-0.423199</td>\n",
       "      <td>-0.410146</td>\n",
       "      <td>0</td>\n",
       "      <td>0</td>\n",
       "      <td>0</td>\n",
       "      <td>1</td>\n",
       "      <td>1</td>\n",
       "      <td>0</td>\n",
       "      <td>0</td>\n",
       "      <td>0</td>\n",
       "    </tr>\n",
       "  </tbody>\n",
       "</table>\n",
       "</div>"
      ],
      "text/plain": [
       "       Location      Year  Kilometers_Driven   Mileage    Engine     Power  \\\n",
       "3326          1  0.052208           0.031723  1.003712  1.993112 -0.910926   \n",
       "8894          1  0.428698           0.454812  0.434663 -0.594964  0.900741   \n",
       "10241         8 -0.324282          -1.410317 -0.460783 -0.224388 -0.771711   \n",
       "17367         9  2.311148          -0.232420 -1.384145  4.700248  0.363501   \n",
       "5320          9  1.181678          -0.035944  0.146918 -0.277965 -1.080040   \n",
       "\n",
       "          Seats  New_Price  Fuel_Type_Diesel  Fuel_Type_Electric  \\\n",
       "3326   1.951432  -0.410146                 1                   0   \n",
       "8894  -0.423199   0.628135                 0                   0   \n",
       "10241 -0.423199  -0.410146                 1                   0   \n",
       "17367 -0.423199  -0.312401                 0                   0   \n",
       "5320  -0.423199  -0.410146                 0                   0   \n",
       "\n",
       "       Fuel_Type_LPG  Fuel_Type_Petrol  Transmission_Manual  \\\n",
       "3326               0                 0                    0   \n",
       "8894               0                 1                    0   \n",
       "10241              0                 0                    1   \n",
       "17367              0                 1                    0   \n",
       "5320               0                 1                    1   \n",
       "\n",
       "       Owner_Type_Fourth & Above  Owner_Type_Second  Owner_Type_Third  \n",
       "3326                           0                  0                 0  \n",
       "8894                           0                  0                 0  \n",
       "10241                          0                  0                 0  \n",
       "17367                          0                  0                 0  \n",
       "5320                           0                  0                 0  "
      ]
     },
     "execution_count": 70,
     "metadata": {},
     "output_type": "execute_result"
    }
   ],
   "source": [
    "xtrain.head()"
   ]
  },
  {
   "cell_type": "markdown",
   "id": "8ce3fc0f",
   "metadata": {},
   "source": [
    "#### M0: Base Model"
   ]
  },
  {
   "cell_type": "code",
   "execution_count": 71,
   "id": "68dacb4b",
   "metadata": {},
   "outputs": [
    {
     "name": "stdout",
     "output_type": "stream",
     "text": [
      "                            OLS Regression Results                            \n",
      "==============================================================================\n",
      "Dep. Variable:                  Price   R-squared:                       0.184\n",
      "Model:                            OLS   Adj. R-squared:                  0.183\n",
      "Method:                 Least Squares   F-statistic:                     208.3\n",
      "Date:                Tue, 04 Oct 2022   Prob (F-statistic):               0.00\n",
      "Time:                        17:54:35   Log-Likelihood:                -48940.\n",
      "No. Observations:               14805   AIC:                         9.791e+04\n",
      "Df Residuals:                   14788   BIC:                         9.804e+04\n",
      "Df Model:                          16                                         \n",
      "Covariance Type:            nonrobust                                         \n",
      "=============================================================================================\n",
      "                                coef    std err          t      P>|t|      [0.025      0.975]\n",
      "---------------------------------------------------------------------------------------------\n",
      "const                         8.2410      0.246     33.559      0.000       7.760       8.722\n",
      "Location                     -0.0648      0.020     -3.299      0.001      -0.103      -0.026\n",
      "Year                          0.2266      0.057      3.992      0.000       0.115       0.338\n",
      "Kilometers_Driven            -0.3497      0.058     -6.071      0.000      -0.463      -0.237\n",
      "Mileage                      -0.1877      0.055     -3.439      0.001      -0.295      -0.081\n",
      "Engine                        0.6406      0.057     11.232      0.000       0.529       0.752\n",
      "Power                         0.4531      0.055      8.169      0.000       0.344       0.562\n",
      "Seats                         0.9832      0.057     17.326      0.000       0.872       1.094\n",
      "New_Price                     0.0639      0.054      1.177      0.239      -0.043       0.170\n",
      "Fuel_Type_Diesel              3.0536      0.203     15.015      0.000       2.655       3.452\n",
      "Fuel_Type_Electric           -1.6501      2.503     -0.659      0.510      -6.555       3.255\n",
      "Fuel_Type_LPG                -0.9407      1.567     -0.600      0.548      -4.012       2.131\n",
      "Fuel_Type_Petrol             -0.0150      0.204     -0.073      0.942      -0.415       0.385\n",
      "Transmission_Manual          -3.4717      0.142    -24.379      0.000      -3.751      -3.193\n",
      "Owner_Type_Fourth & Above    -0.3648      1.107     -0.329      0.742      -2.536       1.806\n",
      "Owner_Type_Second            -0.2375      0.217     -1.093      0.274      -0.663       0.188\n",
      "Owner_Type_Third             -1.2147      0.371     -3.275      0.001      -1.942      -0.488\n",
      "==============================================================================\n",
      "Omnibus:                     9088.058   Durbin-Watson:                   2.013\n",
      "Prob(Omnibus):                  0.000   Jarque-Bera (JB):           110766.354\n",
      "Skew:                           2.789   Prob(JB):                         0.00\n",
      "Kurtosis:                      15.184   Cond. No.                         302.\n",
      "==============================================================================\n",
      "\n",
      "Notes:\n",
      "[1] Standard Errors assume that the covariance matrix of the errors is correctly specified.\n"
     ]
    }
   ],
   "source": [
    "xtrain1 = sm.add_constant(xtrain)\n",
    "xtest1 = sm.add_constant(xtest)\n",
    "model = sm.OLS(ytrain,xtrain1).fit()\n",
    "print(model.summary())"
   ]
  },
  {
   "cell_type": "code",
   "execution_count": 72,
   "id": "403811fc",
   "metadata": {},
   "outputs": [
    {
     "data": {
      "text/plain": [
       "const                  5.020479e-238\n",
       "Location                9.721247e-04\n",
       "Year                    6.578785e-05\n",
       "Kilometers_Driven       1.304751e-09\n",
       "Mileage                 5.856382e-04\n",
       "Engine                  3.730223e-29\n",
       "Power                   3.363596e-16\n",
       "Seats                   1.365686e-66\n",
       "Fuel_Type_Diesel        1.389815e-50\n",
       "Transmission_Manual    9.880870e-129\n",
       "Owner_Type_Third        1.058245e-03\n",
       "dtype: float64"
      ]
     },
     "execution_count": 72,
     "metadata": {},
     "output_type": "execute_result"
    }
   ],
   "source": [
    "model.pvalues[model.pvalues<0.05]"
   ]
  },
  {
   "cell_type": "code",
   "execution_count": 73,
   "id": "1bffd121",
   "metadata": {},
   "outputs": [],
   "source": [
    "cols = list(model.pvalues[model.pvalues<0.05].index)"
   ]
  },
  {
   "cell_type": "code",
   "execution_count": 74,
   "id": "9f323384",
   "metadata": {},
   "outputs": [],
   "source": [
    "cols.remove('const')"
   ]
  },
  {
   "cell_type": "code",
   "execution_count": 75,
   "id": "e4ae8e9d",
   "metadata": {},
   "outputs": [],
   "source": [
    "scorecard = pd.DataFrame(columns = ['Model','r2','TrainRMSE','TestRMSE','MAE'])\n",
    "def upscore(text,ypred_tr,ypred_te):\n",
    "    global scorecard\n",
    "    r2 = r2_score(ytest,ypred_te)\n",
    "    rmse_tr = np.sqrt(mean_squared_error(ytrain,ypred_tr))\n",
    "    rmse_te = np.sqrt(mean_squared_error(ytest,ypred_te))\n",
    "    mae = mean_absolute_error(ytest,ypred_te)\n",
    "    scorecard = scorecard.append({'Model': text,\n",
    "                                  'r2':r2,\n",
    "                                  'TrainRMSE':rmse_tr,\n",
    "                                  'TestRMSE':rmse_te,\n",
    "                                  'MAE':mae},ignore_index=True)"
   ]
  },
  {
   "cell_type": "code",
   "execution_count": 76,
   "id": "ddabed32",
   "metadata": {},
   "outputs": [],
   "source": [
    "lr = LinearRegression()\n",
    "model = lr.fit(xtrain[cols],ytrain)\n",
    "ypred_te = model.predict(xtest[cols])\n",
    "ypred_tr = model.predict(xtrain[cols])\n",
    "upscore('M0: Base Model OLS',ypred_tr,ypred_te)"
   ]
  },
  {
   "cell_type": "code",
   "execution_count": 77,
   "id": "afa02ad0",
   "metadata": {},
   "outputs": [
    {
     "data": {
      "text/html": [
       "<div>\n",
       "<style scoped>\n",
       "    .dataframe tbody tr th:only-of-type {\n",
       "        vertical-align: middle;\n",
       "    }\n",
       "\n",
       "    .dataframe tbody tr th {\n",
       "        vertical-align: top;\n",
       "    }\n",
       "\n",
       "    .dataframe thead th {\n",
       "        text-align: right;\n",
       "    }\n",
       "</style>\n",
       "<table border=\"1\" class=\"dataframe\">\n",
       "  <thead>\n",
       "    <tr style=\"text-align: right;\">\n",
       "      <th></th>\n",
       "      <th>Model</th>\n",
       "      <th>r2</th>\n",
       "      <th>TrainRMSE</th>\n",
       "      <th>TestRMSE</th>\n",
       "      <th>MAE</th>\n",
       "    </tr>\n",
       "  </thead>\n",
       "  <tbody>\n",
       "    <tr>\n",
       "      <th>0</th>\n",
       "      <td>M0: Base Model OLS</td>\n",
       "      <td>0.182937</td>\n",
       "      <td>6.598283</td>\n",
       "      <td>6.772386</td>\n",
       "      <td>4.136349</td>\n",
       "    </tr>\n",
       "  </tbody>\n",
       "</table>\n",
       "</div>"
      ],
      "text/plain": [
       "                Model        r2  TrainRMSE  TestRMSE       MAE\n",
       "0  M0: Base Model OLS  0.182937   6.598283  6.772386  4.136349"
      ]
     },
     "execution_count": 77,
     "metadata": {},
     "output_type": "execute_result"
    }
   ],
   "source": [
    "scorecard"
   ]
  },
  {
   "cell_type": "markdown",
   "id": "b09e251b",
   "metadata": {},
   "source": [
    "#### M2: Decision Tree"
   ]
  },
  {
   "cell_type": "code",
   "execution_count": 78,
   "id": "95a8323e",
   "metadata": {},
   "outputs": [
    {
     "data": {
      "text/html": [
       "<div>\n",
       "<style scoped>\n",
       "    .dataframe tbody tr th:only-of-type {\n",
       "        vertical-align: middle;\n",
       "    }\n",
       "\n",
       "    .dataframe tbody tr th {\n",
       "        vertical-align: top;\n",
       "    }\n",
       "\n",
       "    .dataframe thead th {\n",
       "        text-align: right;\n",
       "    }\n",
       "</style>\n",
       "<table border=\"1\" class=\"dataframe\">\n",
       "  <thead>\n",
       "    <tr style=\"text-align: right;\">\n",
       "      <th></th>\n",
       "      <th>Model</th>\n",
       "      <th>r2</th>\n",
       "      <th>TrainRMSE</th>\n",
       "      <th>TestRMSE</th>\n",
       "      <th>MAE</th>\n",
       "    </tr>\n",
       "  </thead>\n",
       "  <tbody>\n",
       "    <tr>\n",
       "      <th>0</th>\n",
       "      <td>M0: Base Model OLS</td>\n",
       "      <td>0.182937</td>\n",
       "      <td>6.598283</td>\n",
       "      <td>6.772386</td>\n",
       "      <td>4.136349</td>\n",
       "    </tr>\n",
       "    <tr>\n",
       "      <th>1</th>\n",
       "      <td>M1: Decision Tree</td>\n",
       "      <td>-0.720663</td>\n",
       "      <td>0.000000</td>\n",
       "      <td>9.827924</td>\n",
       "      <td>5.606200</td>\n",
       "    </tr>\n",
       "  </tbody>\n",
       "</table>\n",
       "</div>"
      ],
      "text/plain": [
       "                Model        r2  TrainRMSE  TestRMSE       MAE\n",
       "0  M0: Base Model OLS  0.182937   6.598283  6.772386  4.136349\n",
       "1   M1: Decision Tree -0.720663   0.000000  9.827924  5.606200"
      ]
     },
     "execution_count": 78,
     "metadata": {},
     "output_type": "execute_result"
    }
   ],
   "source": [
    "dt = DecisionTreeRegressor()\n",
    "model = dt.fit(xtrain,ytrain)\n",
    "ypred_te = model.predict(xtest)\n",
    "ypred_tr = model.predict(xtrain)\n",
    "upscore('M1: Decision Tree',ypred_tr,ypred_te)\n",
    "scorecard"
   ]
  },
  {
   "cell_type": "markdown",
   "id": "71f190db",
   "metadata": {},
   "source": [
    "#### M3: RandomForest "
   ]
  },
  {
   "cell_type": "code",
   "execution_count": 79,
   "id": "9624ae3c",
   "metadata": {},
   "outputs": [
    {
     "data": {
      "text/html": [
       "<div>\n",
       "<style scoped>\n",
       "    .dataframe tbody tr th:only-of-type {\n",
       "        vertical-align: middle;\n",
       "    }\n",
       "\n",
       "    .dataframe tbody tr th {\n",
       "        vertical-align: top;\n",
       "    }\n",
       "\n",
       "    .dataframe thead th {\n",
       "        text-align: right;\n",
       "    }\n",
       "</style>\n",
       "<table border=\"1\" class=\"dataframe\">\n",
       "  <thead>\n",
       "    <tr style=\"text-align: right;\">\n",
       "      <th></th>\n",
       "      <th>Model</th>\n",
       "      <th>r2</th>\n",
       "      <th>TrainRMSE</th>\n",
       "      <th>TestRMSE</th>\n",
       "      <th>MAE</th>\n",
       "    </tr>\n",
       "  </thead>\n",
       "  <tbody>\n",
       "    <tr>\n",
       "      <th>0</th>\n",
       "      <td>M0: Base Model OLS</td>\n",
       "      <td>0.182937</td>\n",
       "      <td>6.598283</td>\n",
       "      <td>6.772386</td>\n",
       "      <td>4.136349</td>\n",
       "    </tr>\n",
       "    <tr>\n",
       "      <th>1</th>\n",
       "      <td>M1: Decision Tree</td>\n",
       "      <td>-0.720663</td>\n",
       "      <td>0.000000</td>\n",
       "      <td>9.827924</td>\n",
       "      <td>5.606200</td>\n",
       "    </tr>\n",
       "    <tr>\n",
       "      <th>2</th>\n",
       "      <td>M2: Random Forest</td>\n",
       "      <td>0.153667</td>\n",
       "      <td>2.537952</td>\n",
       "      <td>6.892622</td>\n",
       "      <td>4.249424</td>\n",
       "    </tr>\n",
       "  </tbody>\n",
       "</table>\n",
       "</div>"
      ],
      "text/plain": [
       "                Model        r2  TrainRMSE  TestRMSE       MAE\n",
       "0  M0: Base Model OLS  0.182937   6.598283  6.772386  4.136349\n",
       "1   M1: Decision Tree -0.720663   0.000000  9.827924  5.606200\n",
       "2   M2: Random Forest  0.153667   2.537952  6.892622  4.249424"
      ]
     },
     "execution_count": 79,
     "metadata": {},
     "output_type": "execute_result"
    }
   ],
   "source": [
    "rf = RandomForestRegressor()\n",
    "model = rf.fit(xtrain,ytrain)\n",
    "ypred_te = model.predict(xtest)\n",
    "ypred_tr = model.predict(xtrain)\n",
    "upscore('M2: Random Forest',ypred_tr,ypred_te)\n",
    "scorecard"
   ]
  },
  {
   "cell_type": "code",
   "execution_count": 80,
   "id": "5bfa511d",
   "metadata": {},
   "outputs": [
    {
     "data": {
      "text/html": [
       "<div>\n",
       "<style scoped>\n",
       "    .dataframe tbody tr th:only-of-type {\n",
       "        vertical-align: middle;\n",
       "    }\n",
       "\n",
       "    .dataframe tbody tr th {\n",
       "        vertical-align: top;\n",
       "    }\n",
       "\n",
       "    .dataframe thead th {\n",
       "        text-align: right;\n",
       "    }\n",
       "</style>\n",
       "<table border=\"1\" class=\"dataframe\">\n",
       "  <thead>\n",
       "    <tr style=\"text-align: right;\">\n",
       "      <th></th>\n",
       "      <th>Model</th>\n",
       "      <th>r2</th>\n",
       "      <th>TrainRMSE</th>\n",
       "      <th>TestRMSE</th>\n",
       "      <th>MAE</th>\n",
       "    </tr>\n",
       "  </thead>\n",
       "  <tbody>\n",
       "    <tr>\n",
       "      <th>0</th>\n",
       "      <td>M0: Base Model OLS</td>\n",
       "      <td>0.182937</td>\n",
       "      <td>6.598283</td>\n",
       "      <td>6.772386</td>\n",
       "      <td>4.136349</td>\n",
       "    </tr>\n",
       "    <tr>\n",
       "      <th>1</th>\n",
       "      <td>M1: Decision Tree</td>\n",
       "      <td>-0.720663</td>\n",
       "      <td>0.000000</td>\n",
       "      <td>9.827924</td>\n",
       "      <td>5.606200</td>\n",
       "    </tr>\n",
       "    <tr>\n",
       "      <th>2</th>\n",
       "      <td>M2: Random Forest</td>\n",
       "      <td>0.153667</td>\n",
       "      <td>2.537952</td>\n",
       "      <td>6.892622</td>\n",
       "      <td>4.249424</td>\n",
       "    </tr>\n",
       "    <tr>\n",
       "      <th>3</th>\n",
       "      <td>M3: Random Forest sigcols</td>\n",
       "      <td>0.150553</td>\n",
       "      <td>2.532780</td>\n",
       "      <td>6.905293</td>\n",
       "      <td>4.230399</td>\n",
       "    </tr>\n",
       "  </tbody>\n",
       "</table>\n",
       "</div>"
      ],
      "text/plain": [
       "                       Model        r2  TrainRMSE  TestRMSE       MAE\n",
       "0         M0: Base Model OLS  0.182937   6.598283  6.772386  4.136349\n",
       "1          M1: Decision Tree -0.720663   0.000000  9.827924  5.606200\n",
       "2          M2: Random Forest  0.153667   2.537952  6.892622  4.249424\n",
       "3  M3: Random Forest sigcols  0.150553   2.532780  6.905293  4.230399"
      ]
     },
     "execution_count": 80,
     "metadata": {},
     "output_type": "execute_result"
    }
   ],
   "source": [
    "rf = RandomForestRegressor()\n",
    "model = rf.fit(xtrain[cols],ytrain)\n",
    "ypred_te = model.predict(xtest[cols])\n",
    "ypred_tr = model.predict(xtrain[cols])\n",
    "upscore('M3: Random Forest sigcols',ypred_tr,ypred_te)\n",
    "scorecard"
   ]
  },
  {
   "cell_type": "code",
   "execution_count": 81,
   "id": "3e709944",
   "metadata": {},
   "outputs": [
    {
     "data": {
      "text/plain": [
       "Location                     -0.313676\n",
       "Year                         -0.385129\n",
       "Kilometers_Driven             1.314270\n",
       "Mileage                      -0.372584\n",
       "Engine                        1.270197\n",
       "Power                         2.097051\n",
       "Seats                         1.883313\n",
       "New_Price                     3.357993\n",
       "Fuel_Type_Diesel              0.187942\n",
       "Fuel_Type_Electric           45.961163\n",
       "Fuel_Type_LPG                28.629832\n",
       "Fuel_Type_Petrol              0.213727\n",
       "Transmission_Manual          -1.472459\n",
       "Owner_Type_Fourth & Above    20.207305\n",
       "Owner_Type_Second             3.339453\n",
       "Owner_Type_Third              6.339963\n",
       "dtype: float64"
      ]
     },
     "execution_count": 81,
     "metadata": {},
     "output_type": "execute_result"
    }
   ],
   "source": [
    "xtrain.skew()"
   ]
  },
  {
   "cell_type": "code",
   "execution_count": 82,
   "id": "9ce65641",
   "metadata": {},
   "outputs": [
    {
     "data": {
      "text/plain": [
       "GridSearchCV(estimator=RandomForestRegressor(random_state=10), n_jobs=-1,\n",
       "             param_grid={'max_depth': [10, 30, 50, 70, 90],\n",
       "                         'min_samples_leaf': [1, 2, 3, 4, 5],\n",
       "                         'n_estimators': [10, 30, 50, 80, 100, 120]},\n",
       "             scoring='neg_root_mean_squared_error')"
      ]
     },
     "execution_count": 82,
     "metadata": {},
     "output_type": "execute_result"
    }
   ],
   "source": [
    "params = {'n_estimators':[10,30,50,80,100,120],\n",
    "         'max_depth': [10,30,50,70,90],\n",
    "         'min_samples_leaf':[1,2,3,4,5]}\n",
    "gd = GridSearchCV(estimator=RandomForestRegressor(random_state=10),n_jobs=-1,scoring='neg_root_mean_squared_error',\n",
    "                  param_grid = params)\n",
    "gd.fit(xtrain,ytrain)"
   ]
  },
  {
   "cell_type": "code",
   "execution_count": 83,
   "id": "9719bb8c",
   "metadata": {},
   "outputs": [
    {
     "data": {
      "text/plain": [
       "{'max_depth': 10, 'min_samples_leaf': 5, 'n_estimators': 120}"
      ]
     },
     "execution_count": 83,
     "metadata": {},
     "output_type": "execute_result"
    }
   ],
   "source": [
    "gd.best_params_"
   ]
  },
  {
   "cell_type": "code",
   "execution_count": 84,
   "id": "2eec8e8a",
   "metadata": {},
   "outputs": [
    {
     "data": {
      "text/html": [
       "<div>\n",
       "<style scoped>\n",
       "    .dataframe tbody tr th:only-of-type {\n",
       "        vertical-align: middle;\n",
       "    }\n",
       "\n",
       "    .dataframe tbody tr th {\n",
       "        vertical-align: top;\n",
       "    }\n",
       "\n",
       "    .dataframe thead th {\n",
       "        text-align: right;\n",
       "    }\n",
       "</style>\n",
       "<table border=\"1\" class=\"dataframe\">\n",
       "  <thead>\n",
       "    <tr style=\"text-align: right;\">\n",
       "      <th></th>\n",
       "      <th>Model</th>\n",
       "      <th>r2</th>\n",
       "      <th>TrainRMSE</th>\n",
       "      <th>TestRMSE</th>\n",
       "      <th>MAE</th>\n",
       "    </tr>\n",
       "  </thead>\n",
       "  <tbody>\n",
       "    <tr>\n",
       "      <th>0</th>\n",
       "      <td>M0: Base Model OLS</td>\n",
       "      <td>0.182937</td>\n",
       "      <td>6.598283</td>\n",
       "      <td>6.772386</td>\n",
       "      <td>4.136349</td>\n",
       "    </tr>\n",
       "    <tr>\n",
       "      <th>1</th>\n",
       "      <td>M1: Decision Tree</td>\n",
       "      <td>-0.720663</td>\n",
       "      <td>0.000000</td>\n",
       "      <td>9.827924</td>\n",
       "      <td>5.606200</td>\n",
       "    </tr>\n",
       "    <tr>\n",
       "      <th>2</th>\n",
       "      <td>M2: Random Forest</td>\n",
       "      <td>0.153667</td>\n",
       "      <td>2.537952</td>\n",
       "      <td>6.892622</td>\n",
       "      <td>4.249424</td>\n",
       "    </tr>\n",
       "    <tr>\n",
       "      <th>3</th>\n",
       "      <td>M3: Random Forest sigcols</td>\n",
       "      <td>0.150553</td>\n",
       "      <td>2.532780</td>\n",
       "      <td>6.905293</td>\n",
       "      <td>4.230399</td>\n",
       "    </tr>\n",
       "    <tr>\n",
       "      <th>4</th>\n",
       "      <td>M4: Random Forest Hyp Tuned</td>\n",
       "      <td>0.205019</td>\n",
       "      <td>5.559615</td>\n",
       "      <td>6.680241</td>\n",
       "      <td>3.991302</td>\n",
       "    </tr>\n",
       "  </tbody>\n",
       "</table>\n",
       "</div>"
      ],
      "text/plain": [
       "                         Model        r2  TrainRMSE  TestRMSE       MAE\n",
       "0           M0: Base Model OLS  0.182937   6.598283  6.772386  4.136349\n",
       "1            M1: Decision Tree -0.720663   0.000000  9.827924  5.606200\n",
       "2            M2: Random Forest  0.153667   2.537952  6.892622  4.249424\n",
       "3    M3: Random Forest sigcols  0.150553   2.532780  6.905293  4.230399\n",
       "4  M4: Random Forest Hyp Tuned  0.205019   5.559615  6.680241  3.991302"
      ]
     },
     "execution_count": 84,
     "metadata": {},
     "output_type": "execute_result"
    }
   ],
   "source": [
    "rf = RandomForestRegressor(max_depth=10,min_samples_leaf=5,n_estimators=120,random_state=10)\n",
    "model = rf.fit(xtrain,ytrain)\n",
    "ypred_te = model.predict(xtest)\n",
    "ypred_tr = model.predict(xtrain)\n",
    "upscore('M4: Random Forest Hyp Tuned',ypred_tr,ypred_te)\n",
    "scorecard"
   ]
  },
  {
   "cell_type": "code",
   "execution_count": 85,
   "id": "80a852a2",
   "metadata": {},
   "outputs": [
    {
     "data": {
      "text/plain": [
       "{'gamma': 1, 'learning_rate': 0.1, 'max_depth': 3}"
      ]
     },
     "execution_count": 85,
     "metadata": {},
     "output_type": "execute_result"
    }
   ],
   "source": [
    "tuning_parameters = {'learning_rate': [0.1, 0.2, 0.3, 0.4, 0.5, 0.6],\n",
    "                     'max_depth': range(3,10),\n",
    "                     'gamma': [0, 1, 2, 3, 4]} \n",
    "xgb_model = XGBRegressor(random_state=10)\n",
    "xgb_grid = GridSearchCV(estimator = xgb_model, param_grid = tuning_parameters, cv = 3, scoring = 'neg_root_mean_squared_error',\n",
    "                        n_jobs=-1)\n",
    "xgb_grid.fit(xtrain, ytrain)\n",
    "xgb_grid.best_params_"
   ]
  },
  {
   "cell_type": "code",
   "execution_count": 86,
   "id": "d680e4ff",
   "metadata": {},
   "outputs": [
    {
     "data": {
      "text/html": [
       "<div>\n",
       "<style scoped>\n",
       "    .dataframe tbody tr th:only-of-type {\n",
       "        vertical-align: middle;\n",
       "    }\n",
       "\n",
       "    .dataframe tbody tr th {\n",
       "        vertical-align: top;\n",
       "    }\n",
       "\n",
       "    .dataframe thead th {\n",
       "        text-align: right;\n",
       "    }\n",
       "</style>\n",
       "<table border=\"1\" class=\"dataframe\">\n",
       "  <thead>\n",
       "    <tr style=\"text-align: right;\">\n",
       "      <th></th>\n",
       "      <th>Model</th>\n",
       "      <th>r2</th>\n",
       "      <th>TrainRMSE</th>\n",
       "      <th>TestRMSE</th>\n",
       "      <th>MAE</th>\n",
       "    </tr>\n",
       "  </thead>\n",
       "  <tbody>\n",
       "    <tr>\n",
       "      <th>0</th>\n",
       "      <td>M0: Base Model OLS</td>\n",
       "      <td>0.182937</td>\n",
       "      <td>6.598283</td>\n",
       "      <td>6.772386</td>\n",
       "      <td>4.136349</td>\n",
       "    </tr>\n",
       "    <tr>\n",
       "      <th>1</th>\n",
       "      <td>M1: Decision Tree</td>\n",
       "      <td>-0.720663</td>\n",
       "      <td>0.000000</td>\n",
       "      <td>9.827924</td>\n",
       "      <td>5.606200</td>\n",
       "    </tr>\n",
       "    <tr>\n",
       "      <th>2</th>\n",
       "      <td>M2: Random Forest</td>\n",
       "      <td>0.153667</td>\n",
       "      <td>2.537952</td>\n",
       "      <td>6.892622</td>\n",
       "      <td>4.249424</td>\n",
       "    </tr>\n",
       "    <tr>\n",
       "      <th>3</th>\n",
       "      <td>M3: Random Forest sigcols</td>\n",
       "      <td>0.150553</td>\n",
       "      <td>2.532780</td>\n",
       "      <td>6.905293</td>\n",
       "      <td>4.230399</td>\n",
       "    </tr>\n",
       "    <tr>\n",
       "      <th>4</th>\n",
       "      <td>M4: Random Forest Hyp Tuned</td>\n",
       "      <td>0.205019</td>\n",
       "      <td>5.559615</td>\n",
       "      <td>6.680241</td>\n",
       "      <td>3.991302</td>\n",
       "    </tr>\n",
       "    <tr>\n",
       "      <th>5</th>\n",
       "      <td>M5: XGBoost Hyp Tuned</td>\n",
       "      <td>0.068167</td>\n",
       "      <td>7.029871</td>\n",
       "      <td>7.232407</td>\n",
       "      <td>3.674226</td>\n",
       "    </tr>\n",
       "  </tbody>\n",
       "</table>\n",
       "</div>"
      ],
      "text/plain": [
       "                         Model        r2  TrainRMSE  TestRMSE       MAE\n",
       "0           M0: Base Model OLS  0.182937   6.598283  6.772386  4.136349\n",
       "1            M1: Decision Tree -0.720663   0.000000  9.827924  5.606200\n",
       "2            M2: Random Forest  0.153667   2.537952  6.892622  4.249424\n",
       "3    M3: Random Forest sigcols  0.150553   2.532780  6.905293  4.230399\n",
       "4  M4: Random Forest Hyp Tuned  0.205019   5.559615  6.680241  3.991302\n",
       "5        M5: XGBoost Hyp Tuned  0.068167   7.029871  7.232407  3.674226"
      ]
     },
     "execution_count": 86,
     "metadata": {},
     "output_type": "execute_result"
    }
   ],
   "source": [
    "xgb = XGBRegressor(max_depth=3,gamma = 1, learning_rate=0.01,random_state=10)\n",
    "model = xgb.fit(xtrain,ytrain)\n",
    "ypred_te = model.predict(xtest)\n",
    "ypred_tr = model.predict(xtrain)\n",
    "upscore('M5: XGBoost Hyp Tuned',ypred_tr,ypred_te)\n",
    "scorecard"
   ]
  },
  {
   "cell_type": "code",
   "execution_count": 87,
   "id": "454e1058",
   "metadata": {
    "scrolled": true
   },
   "outputs": [
    {
     "data": {
      "text/html": [
       "<div>\n",
       "<style scoped>\n",
       "    .dataframe tbody tr th:only-of-type {\n",
       "        vertical-align: middle;\n",
       "    }\n",
       "\n",
       "    .dataframe tbody tr th {\n",
       "        vertical-align: top;\n",
       "    }\n",
       "\n",
       "    .dataframe thead th {\n",
       "        text-align: right;\n",
       "    }\n",
       "</style>\n",
       "<table border=\"1\" class=\"dataframe\">\n",
       "  <thead>\n",
       "    <tr style=\"text-align: right;\">\n",
       "      <th></th>\n",
       "      <th>Name</th>\n",
       "      <th>Location</th>\n",
       "      <th>Year</th>\n",
       "      <th>Kilometers_Driven</th>\n",
       "      <th>Fuel_Type</th>\n",
       "      <th>Transmission</th>\n",
       "      <th>Owner_Type</th>\n",
       "      <th>Mileage</th>\n",
       "      <th>Engine</th>\n",
       "      <th>Power</th>\n",
       "      <th>Seats</th>\n",
       "      <th>New_Price</th>\n",
       "    </tr>\n",
       "  </thead>\n",
       "  <tbody>\n",
       "    <tr>\n",
       "      <th>0</th>\n",
       "      <td>Ford Figo Diesel Titanium</td>\n",
       "      <td>Delhi</td>\n",
       "      <td>2010</td>\n",
       "      <td>48928</td>\n",
       "      <td>Diesel</td>\n",
       "      <td>Automatic</td>\n",
       "      <td>First</td>\n",
       "      <td>17.8 kmpl</td>\n",
       "      <td>1248 CC</td>\n",
       "      <td>258 bhp</td>\n",
       "      <td>7.0</td>\n",
       "      <td>NaN</td>\n",
       "    </tr>\n",
       "    <tr>\n",
       "      <th>1</th>\n",
       "      <td>Maruti SX4 VDI</td>\n",
       "      <td>Jaipur</td>\n",
       "      <td>2011</td>\n",
       "      <td>47428</td>\n",
       "      <td>Diesel</td>\n",
       "      <td>Automatic</td>\n",
       "      <td>First</td>\n",
       "      <td>23.9 kmpl</td>\n",
       "      <td>2498 CC</td>\n",
       "      <td>183 bhp</td>\n",
       "      <td>5.0</td>\n",
       "      <td>4.33 Lakh</td>\n",
       "    </tr>\n",
       "    <tr>\n",
       "      <th>2</th>\n",
       "      <td>Hyundai Creta 1.6 SX Option</td>\n",
       "      <td>Bangalore</td>\n",
       "      <td>2014</td>\n",
       "      <td>28984</td>\n",
       "      <td>Petrol</td>\n",
       "      <td>Automatic</td>\n",
       "      <td>First</td>\n",
       "      <td>19.59 kmpl</td>\n",
       "      <td>2494 CC</td>\n",
       "      <td>203 bhp</td>\n",
       "      <td>5.0</td>\n",
       "      <td>71.15 Lakh</td>\n",
       "    </tr>\n",
       "    <tr>\n",
       "      <th>3</th>\n",
       "      <td>Jeep Compass 2.0 Limited 4X4</td>\n",
       "      <td>Kochi</td>\n",
       "      <td>2017</td>\n",
       "      <td>46735</td>\n",
       "      <td>Petrol</td>\n",
       "      <td>Manual</td>\n",
       "      <td>First</td>\n",
       "      <td>23.9 kmpl</td>\n",
       "      <td>1498 CC</td>\n",
       "      <td>215 bhp</td>\n",
       "      <td>5.0</td>\n",
       "      <td>NaN</td>\n",
       "    </tr>\n",
       "    <tr>\n",
       "      <th>4</th>\n",
       "      <td>Maruti Swift Dzire VDI</td>\n",
       "      <td>Kochi</td>\n",
       "      <td>2015</td>\n",
       "      <td>19975</td>\n",
       "      <td>Petrol</td>\n",
       "      <td>Automatic</td>\n",
       "      <td>First</td>\n",
       "      <td>26.6 km/kg</td>\n",
       "      <td>2993 CC</td>\n",
       "      <td>147.8 bhp</td>\n",
       "      <td>7.0</td>\n",
       "      <td>NaN</td>\n",
       "    </tr>\n",
       "  </tbody>\n",
       "</table>\n",
       "</div>"
      ],
      "text/plain": [
       "                           Name   Location  Year  Kilometers_Driven Fuel_Type  \\\n",
       "0     Ford Figo Diesel Titanium      Delhi  2010              48928    Diesel   \n",
       "1                Maruti SX4 VDI     Jaipur  2011              47428    Diesel   \n",
       "2   Hyundai Creta 1.6 SX Option  Bangalore  2014              28984    Petrol   \n",
       "3  Jeep Compass 2.0 Limited 4X4      Kochi  2017              46735    Petrol   \n",
       "4        Maruti Swift Dzire VDI      Kochi  2015              19975    Petrol   \n",
       "\n",
       "  Transmission Owner_Type     Mileage   Engine      Power  Seats   New_Price  \n",
       "0    Automatic      First   17.8 kmpl  1248 CC    258 bhp    7.0         NaN  \n",
       "1    Automatic      First   23.9 kmpl  2498 CC    183 bhp    5.0   4.33 Lakh  \n",
       "2    Automatic      First  19.59 kmpl  2494 CC    203 bhp    5.0  71.15 Lakh  \n",
       "3       Manual      First   23.9 kmpl  1498 CC    215 bhp    5.0         NaN  \n",
       "4    Automatic      First  26.6 km/kg  2993 CC  147.8 bhp    7.0         NaN  "
      ]
     },
     "execution_count": 87,
     "metadata": {},
     "output_type": "execute_result"
    }
   ],
   "source": [
    "test = pd.read_csv('Test_cars.csv')\n",
    "test.head()"
   ]
  },
  {
   "cell_type": "code",
   "execution_count": 88,
   "id": "b9fe55e3",
   "metadata": {},
   "outputs": [],
   "source": [
    "test[['Mileage','mUnits']] = test['Mileage'].str.split(expand=True)"
   ]
  },
  {
   "cell_type": "code",
   "execution_count": 89,
   "id": "8c8ccad0",
   "metadata": {},
   "outputs": [],
   "source": [
    "test['Mileage'] = test['Mileage'].astype('float')"
   ]
  },
  {
   "cell_type": "code",
   "execution_count": 90,
   "id": "80b660c0",
   "metadata": {},
   "outputs": [
    {
     "data": {
      "text/plain": [
       "kmpl     47368\n",
       "km/kg     4883\n",
       "Name: mUnits, dtype: int64"
      ]
     },
     "execution_count": 90,
     "metadata": {},
     "output_type": "execute_result"
    }
   ],
   "source": [
    "test['mUnits'].value_counts()"
   ]
  },
  {
   "cell_type": "code",
   "execution_count": 91,
   "id": "583909a0",
   "metadata": {},
   "outputs": [],
   "source": [
    "test['Engine'] = test['Engine'].str.strip('CC')"
   ]
  },
  {
   "cell_type": "code",
   "execution_count": 92,
   "id": "3ed8200e",
   "metadata": {},
   "outputs": [],
   "source": [
    "test['Engine'] = test['Engine'].astype('float')"
   ]
  },
  {
   "cell_type": "code",
   "execution_count": 96,
   "id": "b460dc54",
   "metadata": {},
   "outputs": [],
   "source": [
    "test['Power'] = test['Power'].replace('null ',np.nan)\n",
    "test['Power'] = test['Power'].replace('null',np.nan)"
   ]
  },
  {
   "cell_type": "code",
   "execution_count": 97,
   "id": "907fcf23",
   "metadata": {},
   "outputs": [],
   "source": [
    "test['Power'] = test['Power'].str.strip('bhp')\n",
    "test['Power'] = test['Power'].astype('float')"
   ]
  },
  {
   "cell_type": "code",
   "execution_count": 100,
   "id": "a474308f",
   "metadata": {},
   "outputs": [],
   "source": [
    "test['New_Price'] = test['New_Price'].astype('float')"
   ]
  },
  {
   "cell_type": "code",
   "execution_count": 101,
   "id": "1fbb69d3",
   "metadata": {},
   "outputs": [
    {
     "data": {
      "text/plain": [
       "Lakh    8955\n",
       "Cr       230\n",
       "Name: pUnits, dtype: int64"
      ]
     },
     "execution_count": 101,
     "metadata": {},
     "output_type": "execute_result"
    }
   ],
   "source": [
    "test['pUnits'].value_counts()"
   ]
  },
  {
   "cell_type": "code",
   "execution_count": 102,
   "id": "ede63494",
   "metadata": {},
   "outputs": [],
   "source": [
    "test['pUnits'] = test['pUnits'].replace(['Lakh','Cr'],[1,100])"
   ]
  },
  {
   "cell_type": "code",
   "execution_count": 103,
   "id": "b60d62cb",
   "metadata": {},
   "outputs": [],
   "source": [
    "test['New_Price'] = test['New_Price']*test['pUnits']"
   ]
  },
  {
   "cell_type": "code",
   "execution_count": 104,
   "id": "cd017e9e",
   "metadata": {},
   "outputs": [],
   "source": [
    "test.drop('pUnits',1,inplace=True)"
   ]
  },
  {
   "cell_type": "code",
   "execution_count": 105,
   "id": "7d432427",
   "metadata": {},
   "outputs": [
    {
     "data": {
      "text/html": [
       "<div>\n",
       "<style scoped>\n",
       "    .dataframe tbody tr th:only-of-type {\n",
       "        vertical-align: middle;\n",
       "    }\n",
       "\n",
       "    .dataframe tbody tr th {\n",
       "        vertical-align: top;\n",
       "    }\n",
       "\n",
       "    .dataframe thead th {\n",
       "        text-align: right;\n",
       "    }\n",
       "</style>\n",
       "<table border=\"1\" class=\"dataframe\">\n",
       "  <thead>\n",
       "    <tr style=\"text-align: right;\">\n",
       "      <th></th>\n",
       "      <th>Name</th>\n",
       "      <th>Location</th>\n",
       "      <th>Year</th>\n",
       "      <th>Kilometers_Driven</th>\n",
       "      <th>Fuel_Type</th>\n",
       "      <th>Transmission</th>\n",
       "      <th>Owner_Type</th>\n",
       "      <th>Mileage</th>\n",
       "      <th>Engine</th>\n",
       "      <th>Power</th>\n",
       "      <th>Seats</th>\n",
       "      <th>New_Price</th>\n",
       "      <th>mUnits</th>\n",
       "    </tr>\n",
       "  </thead>\n",
       "  <tbody>\n",
       "    <tr>\n",
       "      <th>0</th>\n",
       "      <td>Ford Figo Diesel Titanium</td>\n",
       "      <td>Delhi</td>\n",
       "      <td>2010</td>\n",
       "      <td>48928</td>\n",
       "      <td>Diesel</td>\n",
       "      <td>Automatic</td>\n",
       "      <td>First</td>\n",
       "      <td>17.80</td>\n",
       "      <td>1248.0</td>\n",
       "      <td>258.0</td>\n",
       "      <td>7.0</td>\n",
       "      <td>NaN</td>\n",
       "      <td>kmpl</td>\n",
       "    </tr>\n",
       "    <tr>\n",
       "      <th>1</th>\n",
       "      <td>Maruti SX4 VDI</td>\n",
       "      <td>Jaipur</td>\n",
       "      <td>2011</td>\n",
       "      <td>47428</td>\n",
       "      <td>Diesel</td>\n",
       "      <td>Automatic</td>\n",
       "      <td>First</td>\n",
       "      <td>23.90</td>\n",
       "      <td>2498.0</td>\n",
       "      <td>183.0</td>\n",
       "      <td>5.0</td>\n",
       "      <td>4.33</td>\n",
       "      <td>kmpl</td>\n",
       "    </tr>\n",
       "    <tr>\n",
       "      <th>2</th>\n",
       "      <td>Hyundai Creta 1.6 SX Option</td>\n",
       "      <td>Bangalore</td>\n",
       "      <td>2014</td>\n",
       "      <td>28984</td>\n",
       "      <td>Petrol</td>\n",
       "      <td>Automatic</td>\n",
       "      <td>First</td>\n",
       "      <td>19.59</td>\n",
       "      <td>2494.0</td>\n",
       "      <td>203.0</td>\n",
       "      <td>5.0</td>\n",
       "      <td>71.15</td>\n",
       "      <td>kmpl</td>\n",
       "    </tr>\n",
       "    <tr>\n",
       "      <th>3</th>\n",
       "      <td>Jeep Compass 2.0 Limited 4X4</td>\n",
       "      <td>Kochi</td>\n",
       "      <td>2017</td>\n",
       "      <td>46735</td>\n",
       "      <td>Petrol</td>\n",
       "      <td>Manual</td>\n",
       "      <td>First</td>\n",
       "      <td>23.90</td>\n",
       "      <td>1498.0</td>\n",
       "      <td>215.0</td>\n",
       "      <td>5.0</td>\n",
       "      <td>NaN</td>\n",
       "      <td>kmpl</td>\n",
       "    </tr>\n",
       "    <tr>\n",
       "      <th>4</th>\n",
       "      <td>Maruti Swift Dzire VDI</td>\n",
       "      <td>Kochi</td>\n",
       "      <td>2015</td>\n",
       "      <td>19975</td>\n",
       "      <td>Petrol</td>\n",
       "      <td>Automatic</td>\n",
       "      <td>First</td>\n",
       "      <td>26.60</td>\n",
       "      <td>2993.0</td>\n",
       "      <td>147.8</td>\n",
       "      <td>7.0</td>\n",
       "      <td>NaN</td>\n",
       "      <td>km/kg</td>\n",
       "    </tr>\n",
       "  </tbody>\n",
       "</table>\n",
       "</div>"
      ],
      "text/plain": [
       "                           Name   Location  Year  Kilometers_Driven Fuel_Type  \\\n",
       "0     Ford Figo Diesel Titanium      Delhi  2010              48928    Diesel   \n",
       "1                Maruti SX4 VDI     Jaipur  2011              47428    Diesel   \n",
       "2   Hyundai Creta 1.6 SX Option  Bangalore  2014              28984    Petrol   \n",
       "3  Jeep Compass 2.0 Limited 4X4      Kochi  2017              46735    Petrol   \n",
       "4        Maruti Swift Dzire VDI      Kochi  2015              19975    Petrol   \n",
       "\n",
       "  Transmission Owner_Type  Mileage  Engine  Power  Seats  New_Price mUnits  \n",
       "0    Automatic      First    17.80  1248.0  258.0    7.0        NaN   kmpl  \n",
       "1    Automatic      First    23.90  2498.0  183.0    5.0       4.33   kmpl  \n",
       "2    Automatic      First    19.59  2494.0  203.0    5.0      71.15   kmpl  \n",
       "3       Manual      First    23.90  1498.0  215.0    5.0        NaN   kmpl  \n",
       "4    Automatic      First    26.60  2993.0  147.8    7.0        NaN  km/kg  "
      ]
     },
     "execution_count": 105,
     "metadata": {},
     "output_type": "execute_result"
    }
   ],
   "source": [
    "test.head()"
   ]
  },
  {
   "cell_type": "code",
   "execution_count": 106,
   "id": "a4af8be4",
   "metadata": {},
   "outputs": [
    {
     "data": {
      "text/plain": [
       "Diesel      23563\n",
       "Petrol      23523\n",
       "CNG          5345\n",
       "Electric       36\n",
       "LPG            33\n",
       "Name: Fuel_Type, dtype: int64"
      ]
     },
     "execution_count": 106,
     "metadata": {},
     "output_type": "execute_result"
    }
   ],
   "source": [
    "test['Fuel_Type'].value_counts()"
   ]
  },
  {
   "cell_type": "code",
   "execution_count": 107,
   "id": "fc111a3c",
   "metadata": {},
   "outputs": [
    {
     "data": {
      "text/plain": [
       "kmpl     47368\n",
       "km/kg     4883\n",
       "Name: mUnits, dtype: int64"
      ]
     },
     "execution_count": 107,
     "metadata": {},
     "output_type": "execute_result"
    }
   ],
   "source": [
    "test['mUnits'].value_counts()"
   ]
  },
  {
   "cell_type": "code",
   "execution_count": 108,
   "id": "e97fda6b",
   "metadata": {},
   "outputs": [
    {
     "data": {
      "text/plain": [
       "Petrol      2961\n",
       "Diesel      1486\n",
       "CNG          431\n",
       "LPG            4\n",
       "Electric       1\n",
       "Name: Fuel_Type, dtype: int64"
      ]
     },
     "execution_count": 108,
     "metadata": {},
     "output_type": "execute_result"
    }
   ],
   "source": [
    "test[(test['mUnits'] == 'km/kg')]['Fuel_Type'].value_counts()"
   ]
  },
  {
   "cell_type": "code",
   "execution_count": 109,
   "id": "a61815b8",
   "metadata": {},
   "outputs": [],
   "source": [
    "l = []\n",
    "for i in test.index:\n",
    "    if test['mUnits'][i] == 'kmpl':\n",
    "        l.append(1)\n",
    "    elif (test['mUnits'][i] == 'km/kg') & (test['Fuel_Type'][i] == 'Petrol'):\n",
    "        l.append(1/1.36)\n",
    "    elif (test['mUnits'][i] == 'km/kg') & (test['Fuel_Type'][i] == 'Diesel'):\n",
    "        l.append(1/1.16)\n",
    "    elif (test['mUnits'][i] == 'km/kg') & (test['Fuel_Type'][i] == 'CNG'):\n",
    "        l.append(1/5.56)\n",
    "    elif (test['mUnits'][i] == 'km/kg') & (test['Fuel_Type'][i] == 'LPG'):\n",
    "        l.append(1/1.96)\n",
    "    elif (test['mUnits'][i] == 'km/kg') & (test['Fuel_Type'][i] == 'Electric'):\n",
    "        l.append(1)\n",
    "    else:\n",
    "        l.append(np.nan)"
   ]
  },
  {
   "cell_type": "code",
   "execution_count": 110,
   "id": "b3923bbc",
   "metadata": {},
   "outputs": [],
   "source": [
    "test['mUnits'] = l"
   ]
  },
  {
   "cell_type": "code",
   "execution_count": 111,
   "id": "d2420303",
   "metadata": {},
   "outputs": [],
   "source": [
    "test['Mileage'] = test['Mileage']*test['mUnits']"
   ]
  },
  {
   "cell_type": "code",
   "execution_count": 112,
   "id": "e738fdd3",
   "metadata": {},
   "outputs": [],
   "source": [
    "test.drop('mUnits',1,inplace=True)"
   ]
  },
  {
   "cell_type": "code",
   "execution_count": 113,
   "id": "8c4fec86",
   "metadata": {},
   "outputs": [],
   "source": [
    "m = dict()\n",
    "for i in test['Name'].value_counts().index:\n",
    "    if test[test['Name'] == i]['New_Price'].nunique() == 0:\n",
    "        m[i] = np.nan\n",
    "    else:\n",
    "        m[i] = test[test['Name'] == i]['New_Price'].value_counts().index[0]"
   ]
  },
  {
   "cell_type": "code",
   "execution_count": 114,
   "id": "fdd56e25",
   "metadata": {},
   "outputs": [],
   "source": [
    "test['NP'] = test['Name'].map(m)"
   ]
  },
  {
   "cell_type": "code",
   "execution_count": 115,
   "id": "27f6dbaf",
   "metadata": {},
   "outputs": [],
   "source": [
    "test['New_Price'].fillna(test['NP'],inplace=True)"
   ]
  },
  {
   "cell_type": "code",
   "execution_count": 116,
   "id": "1bf122e9",
   "metadata": {},
   "outputs": [],
   "source": [
    "test.drop('NP',1,inplace=True)"
   ]
  },
  {
   "cell_type": "code",
   "execution_count": 117,
   "id": "296441f1",
   "metadata": {},
   "outputs": [],
   "source": [
    "m = dict()\n",
    "for i in test['Name'].value_counts().index:\n",
    "    m[i] = test[test['Name'] == i]['Engine'].median()"
   ]
  },
  {
   "cell_type": "code",
   "execution_count": 118,
   "id": "7ff064cb",
   "metadata": {},
   "outputs": [],
   "source": [
    "test['E'] = test['Name'].map(m)\n",
    "test['Engine'].fillna(test['E'],inplace=True)"
   ]
  },
  {
   "cell_type": "code",
   "execution_count": 119,
   "id": "bae776c1",
   "metadata": {},
   "outputs": [],
   "source": [
    "m = dict()\n",
    "for i in test['Name'].value_counts().index:\n",
    "    m[i] = test[test['Name'] == i]['Seats'].median()"
   ]
  },
  {
   "cell_type": "code",
   "execution_count": 120,
   "id": "5f092a0e",
   "metadata": {},
   "outputs": [],
   "source": [
    "test['S'] = test['Name'].map(m)\n",
    "test['Seats'].fillna(test['S'],inplace=True)"
   ]
  },
  {
   "cell_type": "code",
   "execution_count": 121,
   "id": "b8aab266",
   "metadata": {},
   "outputs": [],
   "source": [
    "test.drop(['E','S'],1,inplace=True)"
   ]
  },
  {
   "cell_type": "code",
   "execution_count": 122,
   "id": "444c80b4",
   "metadata": {},
   "outputs": [],
   "source": [
    "m = dict()\n",
    "for i in test['Name'].value_counts().index:\n",
    "    m[i] = test[test['Name'] == i]['Power'].median()\n",
    "test['P'] = test['Name'].map(m)\n",
    "test['Power'].fillna(test['P'],inplace=True)\n",
    "test.drop('P',1,inplace=True)"
   ]
  },
  {
   "cell_type": "code",
   "execution_count": 123,
   "id": "503e44b5",
   "metadata": {},
   "outputs": [
    {
     "data": {
      "text/plain": [
       "Name                   0\n",
       "Location               0\n",
       "Year                   0\n",
       "Kilometers_Driven      0\n",
       "Fuel_Type              0\n",
       "Transmission           0\n",
       "Owner_Type             0\n",
       "Mileage              249\n",
       "Engine                 1\n",
       "Power                  0\n",
       "Seats                  0\n",
       "New_Price            565\n",
       "dtype: int64"
      ]
     },
     "execution_count": 123,
     "metadata": {},
     "output_type": "execute_result"
    }
   ],
   "source": [
    "test.isnull().sum()"
   ]
  },
  {
   "cell_type": "code",
   "execution_count": 124,
   "id": "c09a48c1",
   "metadata": {},
   "outputs": [],
   "source": [
    "test['Mileage'] = test['Mileage'].fillna(test['Mileage'].median())\n",
    "test['Engine'] = test['Engine'].fillna(test['Engine'].median())\n",
    "test['New_Price'] = test['New_Price'].fillna(test['New_Price'].median())"
   ]
  },
  {
   "cell_type": "code",
   "execution_count": 125,
   "id": "e6c6d3be",
   "metadata": {},
   "outputs": [
    {
     "data": {
      "text/plain": [
       "Name                 0\n",
       "Location             0\n",
       "Year                 0\n",
       "Kilometers_Driven    0\n",
       "Fuel_Type            0\n",
       "Transmission         0\n",
       "Owner_Type           0\n",
       "Mileage              0\n",
       "Engine               0\n",
       "Power                0\n",
       "Seats                0\n",
       "New_Price            0\n",
       "dtype: int64"
      ]
     },
     "execution_count": 125,
     "metadata": {},
     "output_type": "execute_result"
    }
   ],
   "source": [
    "test.isnull().sum()"
   ]
  },
  {
   "cell_type": "code",
   "execution_count": 126,
   "id": "063ac66d",
   "metadata": {},
   "outputs": [],
   "source": [
    "test.drop('Name',1,inplace=True)"
   ]
  },
  {
   "cell_type": "code",
   "execution_count": 127,
   "id": "3f9a69fa",
   "metadata": {},
   "outputs": [],
   "source": [
    "test['Location'] = LE.transform(test['Location'])"
   ]
  },
  {
   "cell_type": "code",
   "execution_count": 128,
   "id": "c7be59b6",
   "metadata": {},
   "outputs": [],
   "source": [
    "test = pd.get_dummies(data=test,columns=['Fuel_Type','Transmission','Owner_Type'],drop_first=True)"
   ]
  },
  {
   "cell_type": "code",
   "execution_count": 129,
   "id": "0b835a84",
   "metadata": {},
   "outputs": [
    {
     "data": {
      "text/html": [
       "<div>\n",
       "<style scoped>\n",
       "    .dataframe tbody tr th:only-of-type {\n",
       "        vertical-align: middle;\n",
       "    }\n",
       "\n",
       "    .dataframe tbody tr th {\n",
       "        vertical-align: top;\n",
       "    }\n",
       "\n",
       "    .dataframe thead th {\n",
       "        text-align: right;\n",
       "    }\n",
       "</style>\n",
       "<table border=\"1\" class=\"dataframe\">\n",
       "  <thead>\n",
       "    <tr style=\"text-align: right;\">\n",
       "      <th></th>\n",
       "      <th>Location</th>\n",
       "      <th>Year</th>\n",
       "      <th>Kilometers_Driven</th>\n",
       "      <th>Mileage</th>\n",
       "      <th>Engine</th>\n",
       "      <th>Power</th>\n",
       "      <th>Seats</th>\n",
       "      <th>New_Price</th>\n",
       "      <th>Fuel_Type_Diesel</th>\n",
       "      <th>Fuel_Type_Electric</th>\n",
       "      <th>Fuel_Type_LPG</th>\n",
       "      <th>Fuel_Type_Petrol</th>\n",
       "      <th>Transmission_Manual</th>\n",
       "      <th>Owner_Type_Fourth &amp; Above</th>\n",
       "      <th>Owner_Type_Second</th>\n",
       "      <th>Owner_Type_Third</th>\n",
       "    </tr>\n",
       "  </thead>\n",
       "  <tbody>\n",
       "    <tr>\n",
       "      <th>0</th>\n",
       "      <td>4</td>\n",
       "      <td>2010</td>\n",
       "      <td>48928</td>\n",
       "      <td>17.800000</td>\n",
       "      <td>1248.0</td>\n",
       "      <td>258.0</td>\n",
       "      <td>7.0</td>\n",
       "      <td>8.61</td>\n",
       "      <td>1</td>\n",
       "      <td>0</td>\n",
       "      <td>0</td>\n",
       "      <td>0</td>\n",
       "      <td>0</td>\n",
       "      <td>0</td>\n",
       "      <td>0</td>\n",
       "      <td>0</td>\n",
       "    </tr>\n",
       "    <tr>\n",
       "      <th>1</th>\n",
       "      <td>6</td>\n",
       "      <td>2011</td>\n",
       "      <td>47428</td>\n",
       "      <td>23.900000</td>\n",
       "      <td>2498.0</td>\n",
       "      <td>183.0</td>\n",
       "      <td>5.0</td>\n",
       "      <td>4.33</td>\n",
       "      <td>1</td>\n",
       "      <td>0</td>\n",
       "      <td>0</td>\n",
       "      <td>0</td>\n",
       "      <td>0</td>\n",
       "      <td>0</td>\n",
       "      <td>0</td>\n",
       "      <td>0</td>\n",
       "    </tr>\n",
       "    <tr>\n",
       "      <th>2</th>\n",
       "      <td>1</td>\n",
       "      <td>2014</td>\n",
       "      <td>28984</td>\n",
       "      <td>19.590000</td>\n",
       "      <td>2494.0</td>\n",
       "      <td>203.0</td>\n",
       "      <td>5.0</td>\n",
       "      <td>71.15</td>\n",
       "      <td>0</td>\n",
       "      <td>0</td>\n",
       "      <td>0</td>\n",
       "      <td>1</td>\n",
       "      <td>0</td>\n",
       "      <td>0</td>\n",
       "      <td>0</td>\n",
       "      <td>0</td>\n",
       "    </tr>\n",
       "    <tr>\n",
       "      <th>3</th>\n",
       "      <td>7</td>\n",
       "      <td>2017</td>\n",
       "      <td>46735</td>\n",
       "      <td>23.900000</td>\n",
       "      <td>1498.0</td>\n",
       "      <td>215.0</td>\n",
       "      <td>5.0</td>\n",
       "      <td>4.70</td>\n",
       "      <td>0</td>\n",
       "      <td>0</td>\n",
       "      <td>0</td>\n",
       "      <td>1</td>\n",
       "      <td>1</td>\n",
       "      <td>0</td>\n",
       "      <td>0</td>\n",
       "      <td>0</td>\n",
       "    </tr>\n",
       "    <tr>\n",
       "      <th>4</th>\n",
       "      <td>7</td>\n",
       "      <td>2015</td>\n",
       "      <td>19975</td>\n",
       "      <td>19.558824</td>\n",
       "      <td>2993.0</td>\n",
       "      <td>147.8</td>\n",
       "      <td>7.0</td>\n",
       "      <td>8.61</td>\n",
       "      <td>0</td>\n",
       "      <td>0</td>\n",
       "      <td>0</td>\n",
       "      <td>1</td>\n",
       "      <td>0</td>\n",
       "      <td>0</td>\n",
       "      <td>0</td>\n",
       "      <td>0</td>\n",
       "    </tr>\n",
       "  </tbody>\n",
       "</table>\n",
       "</div>"
      ],
      "text/plain": [
       "   Location  Year  Kilometers_Driven    Mileage  Engine  Power  Seats  \\\n",
       "0         4  2010              48928  17.800000  1248.0  258.0    7.0   \n",
       "1         6  2011              47428  23.900000  2498.0  183.0    5.0   \n",
       "2         1  2014              28984  19.590000  2494.0  203.0    5.0   \n",
       "3         7  2017              46735  23.900000  1498.0  215.0    5.0   \n",
       "4         7  2015              19975  19.558824  2993.0  147.8    7.0   \n",
       "\n",
       "   New_Price  Fuel_Type_Diesel  Fuel_Type_Electric  Fuel_Type_LPG  \\\n",
       "0       8.61                 1                   0              0   \n",
       "1       4.33                 1                   0              0   \n",
       "2      71.15                 0                   0              0   \n",
       "3       4.70                 0                   0              0   \n",
       "4       8.61                 0                   0              0   \n",
       "\n",
       "   Fuel_Type_Petrol  Transmission_Manual  Owner_Type_Fourth & Above  \\\n",
       "0                 0                    0                          0   \n",
       "1                 0                    0                          0   \n",
       "2                 1                    0                          0   \n",
       "3                 1                    1                          0   \n",
       "4                 1                    0                          0   \n",
       "\n",
       "   Owner_Type_Second  Owner_Type_Third  \n",
       "0                  0                 0  \n",
       "1                  0                 0  \n",
       "2                  0                 0  \n",
       "3                  0                 0  \n",
       "4                  0                 0  "
      ]
     },
     "execution_count": 129,
     "metadata": {},
     "output_type": "execute_result"
    }
   ],
   "source": [
    "test.head()"
   ]
  },
  {
   "cell_type": "code",
   "execution_count": 130,
   "id": "2916c648",
   "metadata": {},
   "outputs": [],
   "source": [
    "test.iloc[:,1:8] = SS.transform(test.iloc[:,1:8])"
   ]
  },
  {
   "cell_type": "code",
   "execution_count": 131,
   "id": "7bd62d4b",
   "metadata": {},
   "outputs": [],
   "source": [
    "rf = RandomForestRegressor(max_depth=10,min_samples_leaf=5,n_estimators=120,random_state=10)\n",
    "model = rf.fit(xtrain,ytrain)"
   ]
  },
  {
   "cell_type": "code",
   "execution_count": 132,
   "id": "53609814",
   "metadata": {},
   "outputs": [],
   "source": [
    "ypred = model.predict(test)"
   ]
  },
  {
   "cell_type": "code",
   "execution_count": 133,
   "id": "87acd6c2",
   "metadata": {},
   "outputs": [
    {
     "data": {
      "text/plain": [
       "52500"
      ]
     },
     "execution_count": 133,
     "metadata": {},
     "output_type": "execute_result"
    }
   ],
   "source": [
    "len(ypred)"
   ]
  },
  {
   "cell_type": "code",
   "execution_count": 134,
   "id": "9928eb74",
   "metadata": {},
   "outputs": [
    {
     "data": {
      "text/html": [
       "<div>\n",
       "<style scoped>\n",
       "    .dataframe tbody tr th:only-of-type {\n",
       "        vertical-align: middle;\n",
       "    }\n",
       "\n",
       "    .dataframe tbody tr th {\n",
       "        vertical-align: top;\n",
       "    }\n",
       "\n",
       "    .dataframe thead th {\n",
       "        text-align: right;\n",
       "    }\n",
       "</style>\n",
       "<table border=\"1\" class=\"dataframe\">\n",
       "  <thead>\n",
       "    <tr style=\"text-align: right;\">\n",
       "      <th></th>\n",
       "      <th>Name</th>\n",
       "      <th>Price</th>\n",
       "    </tr>\n",
       "  </thead>\n",
       "  <tbody>\n",
       "    <tr>\n",
       "      <th>0</th>\n",
       "      <td>Ford Figo Diesel Titanium</td>\n",
       "      <td>NaN</td>\n",
       "    </tr>\n",
       "    <tr>\n",
       "      <th>1</th>\n",
       "      <td>Maruti SX4 VDI</td>\n",
       "      <td>NaN</td>\n",
       "    </tr>\n",
       "    <tr>\n",
       "      <th>2</th>\n",
       "      <td>Hyundai Creta 1.6 SX Option</td>\n",
       "      <td>NaN</td>\n",
       "    </tr>\n",
       "    <tr>\n",
       "      <th>3</th>\n",
       "      <td>Jeep Compass 2.0 Limited 4X4</td>\n",
       "      <td>NaN</td>\n",
       "    </tr>\n",
       "    <tr>\n",
       "      <th>4</th>\n",
       "      <td>Maruti Swift Dzire VDI</td>\n",
       "      <td>NaN</td>\n",
       "    </tr>\n",
       "    <tr>\n",
       "      <th>...</th>\n",
       "      <td>...</td>\n",
       "      <td>...</td>\n",
       "    </tr>\n",
       "    <tr>\n",
       "      <th>52495</th>\n",
       "      <td>Honda Mobilio S i DTEC</td>\n",
       "      <td>NaN</td>\n",
       "    </tr>\n",
       "    <tr>\n",
       "      <th>52496</th>\n",
       "      <td>Toyota Etios Liva 1.2 G</td>\n",
       "      <td>NaN</td>\n",
       "    </tr>\n",
       "    <tr>\n",
       "      <th>52497</th>\n",
       "      <td>Maruti Zen LX</td>\n",
       "      <td>NaN</td>\n",
       "    </tr>\n",
       "    <tr>\n",
       "      <th>52498</th>\n",
       "      <td>Toyota Innova 2.5 VX (Diesel) 7 Seater</td>\n",
       "      <td>NaN</td>\n",
       "    </tr>\n",
       "    <tr>\n",
       "      <th>52499</th>\n",
       "      <td>Toyota Etios G</td>\n",
       "      <td>NaN</td>\n",
       "    </tr>\n",
       "  </tbody>\n",
       "</table>\n",
       "<p>52500 rows × 2 columns</p>\n",
       "</div>"
      ],
      "text/plain": [
       "                                         Name  Price\n",
       "0                   Ford Figo Diesel Titanium    NaN\n",
       "1                              Maruti SX4 VDI    NaN\n",
       "2                 Hyundai Creta 1.6 SX Option    NaN\n",
       "3                Jeep Compass 2.0 Limited 4X4    NaN\n",
       "4                      Maruti Swift Dzire VDI    NaN\n",
       "...                                       ...    ...\n",
       "52495                  Honda Mobilio S i DTEC    NaN\n",
       "52496                 Toyota Etios Liva 1.2 G    NaN\n",
       "52497                           Maruti Zen LX    NaN\n",
       "52498  Toyota Innova 2.5 VX (Diesel) 7 Seater    NaN\n",
       "52499                          Toyota Etios G    NaN\n",
       "\n",
       "[52500 rows x 2 columns]"
      ]
     },
     "execution_count": 134,
     "metadata": {},
     "output_type": "execute_result"
    }
   ],
   "source": [
    "samp = pd.read_csv('Sample_Submission.csv')\n",
    "samp"
   ]
  },
  {
   "cell_type": "code",
   "execution_count": 135,
   "id": "e4fd4f5e",
   "metadata": {},
   "outputs": [],
   "source": [
    "samp['Price'] = ypred"
   ]
  },
  {
   "cell_type": "code",
   "execution_count": 136,
   "id": "2c47b76e",
   "metadata": {},
   "outputs": [],
   "source": [
    "samp.to_csv('Sub1.csv',index=False)"
   ]
  },
  {
   "cell_type": "code",
   "execution_count": null,
   "id": "dfbd9c14",
   "metadata": {},
   "outputs": [],
   "source": []
  },
  {
   "cell_type": "code",
   "execution_count": null,
   "id": "2919f8b7",
   "metadata": {},
   "outputs": [],
   "source": []
  }
 ],
 "metadata": {
  "kernelspec": {
   "display_name": "Python 3 (ipykernel)",
   "language": "python",
   "name": "python3"
  },
  "language_info": {
   "codemirror_mode": {
    "name": "ipython",
    "version": 3
   },
   "file_extension": ".py",
   "mimetype": "text/x-python",
   "name": "python",
   "nbconvert_exporter": "python",
   "pygments_lexer": "ipython3",
   "version": "3.9.7"
  }
 },
 "nbformat": 4,
 "nbformat_minor": 5
}
